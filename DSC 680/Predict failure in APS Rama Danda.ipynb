{
 "cells": [
  {
   "cell_type": "code",
   "execution_count": 2,
   "metadata": {},
   "outputs": [],
   "source": [
    "import pandas as pd\n",
    "import numpy as np\n",
    "from sklearn.model_selection import train_test_split\n",
    "from collections import Counter\n",
    "from sklearn.impute import SimpleImputer\n",
    "from sklearn.feature_selection import RFE\n",
    "import matplotlib.pyplot as plt\n",
    "from sklearn.ensemble import RandomForestClassifier\n",
    "from sklearn.experimental import enable_iterative_imputer\n",
    "from imblearn.over_sampling import SMOTE\n",
    "from sklearn.impute import IterativeImputer\n",
    "from sklearn.linear_model import Ridge\n",
    "import seaborn as sns\n",
    "import joblib\n",
    "from sklearn.dummy import DummyClassifier\n",
    "from sklearn.linear_model import LogisticRegression\n",
    "from sklearn.model_selection import RandomizedSearchCV\n",
    "from sklearn.model_selection import GridSearchCV\n",
    "from sklearn.metrics import roc_curve,auc\n",
    "from sklearn.metrics import confusion_matrix\n",
    "from sklearn.naive_bayes import GaussianNB\n",
    "from scipy.stats import uniform,randint\n",
    "from tqdm import tqdm\n",
    "from sklearn.tree import DecisionTreeClassifier\n",
    "from sklearn.ensemble import RandomForestClassifier\n",
    "from xgboost import XGBClassifier\n",
    "from sklearn.preprocessing import MinMaxScaler\n",
    "from lightgbm import LGBMClassifier\n",
    "from sklearn.metrics import f1_score\n",
    "from sklearn.metrics import precision_recall_curve\n",
    "from imblearn.under_sampling import RandomUnderSampler\n",
    "from imblearn.pipeline import Pipeline\n",
    "from sklearn.linear_model import SGDClassifier\n",
    "from sklearn.ensemble import AdaBoostClassifier\n",
    "from prettytable import PrettyTable\n",
    "import pickle\n",
    "\n",
    "\n",
    "import warnings\n",
    "warnings.filterwarnings(\"ignore\")"
   ]
  },
  {
   "cell_type": "code",
   "execution_count": 3,
   "metadata": {},
   "outputs": [
    {
     "name": "stdout",
     "output_type": "stream",
     "text": [
      "(60000, 171)\n"
     ]
    },
    {
     "data": {
      "text/html": [
       "<div>\n",
       "<style scoped>\n",
       "    .dataframe tbody tr th:only-of-type {\n",
       "        vertical-align: middle;\n",
       "    }\n",
       "\n",
       "    .dataframe tbody tr th {\n",
       "        vertical-align: top;\n",
       "    }\n",
       "\n",
       "    .dataframe thead th {\n",
       "        text-align: right;\n",
       "    }\n",
       "</style>\n",
       "<table border=\"1\" class=\"dataframe\">\n",
       "  <thead>\n",
       "    <tr style=\"text-align: right;\">\n",
       "      <th></th>\n",
       "      <th>class</th>\n",
       "      <th>aa_000</th>\n",
       "      <th>ab_000</th>\n",
       "      <th>ac_000</th>\n",
       "      <th>ad_000</th>\n",
       "      <th>ae_000</th>\n",
       "      <th>af_000</th>\n",
       "      <th>ag_000</th>\n",
       "      <th>ag_001</th>\n",
       "      <th>ag_002</th>\n",
       "      <th>...</th>\n",
       "      <th>ee_002</th>\n",
       "      <th>ee_003</th>\n",
       "      <th>ee_004</th>\n",
       "      <th>ee_005</th>\n",
       "      <th>ee_006</th>\n",
       "      <th>ee_007</th>\n",
       "      <th>ee_008</th>\n",
       "      <th>ee_009</th>\n",
       "      <th>ef_000</th>\n",
       "      <th>eg_000</th>\n",
       "    </tr>\n",
       "  </thead>\n",
       "  <tbody>\n",
       "    <tr>\n",
       "      <th>0</th>\n",
       "      <td>neg</td>\n",
       "      <td>76698</td>\n",
       "      <td>NaN</td>\n",
       "      <td>2.130706e+09</td>\n",
       "      <td>280.0</td>\n",
       "      <td>0.0</td>\n",
       "      <td>0.0</td>\n",
       "      <td>0.0</td>\n",
       "      <td>0.0</td>\n",
       "      <td>0.0</td>\n",
       "      <td>...</td>\n",
       "      <td>1240520.0</td>\n",
       "      <td>493384.0</td>\n",
       "      <td>721044.0</td>\n",
       "      <td>469792.0</td>\n",
       "      <td>339156.0</td>\n",
       "      <td>157956.0</td>\n",
       "      <td>73224.0</td>\n",
       "      <td>0.0</td>\n",
       "      <td>0.0</td>\n",
       "      <td>0.0</td>\n",
       "    </tr>\n",
       "    <tr>\n",
       "      <th>1</th>\n",
       "      <td>neg</td>\n",
       "      <td>33058</td>\n",
       "      <td>NaN</td>\n",
       "      <td>0.000000e+00</td>\n",
       "      <td>NaN</td>\n",
       "      <td>0.0</td>\n",
       "      <td>0.0</td>\n",
       "      <td>0.0</td>\n",
       "      <td>0.0</td>\n",
       "      <td>0.0</td>\n",
       "      <td>...</td>\n",
       "      <td>421400.0</td>\n",
       "      <td>178064.0</td>\n",
       "      <td>293306.0</td>\n",
       "      <td>245416.0</td>\n",
       "      <td>133654.0</td>\n",
       "      <td>81140.0</td>\n",
       "      <td>97576.0</td>\n",
       "      <td>1500.0</td>\n",
       "      <td>0.0</td>\n",
       "      <td>0.0</td>\n",
       "    </tr>\n",
       "    <tr>\n",
       "      <th>2</th>\n",
       "      <td>neg</td>\n",
       "      <td>41040</td>\n",
       "      <td>NaN</td>\n",
       "      <td>2.280000e+02</td>\n",
       "      <td>100.0</td>\n",
       "      <td>0.0</td>\n",
       "      <td>0.0</td>\n",
       "      <td>0.0</td>\n",
       "      <td>0.0</td>\n",
       "      <td>0.0</td>\n",
       "      <td>...</td>\n",
       "      <td>277378.0</td>\n",
       "      <td>159812.0</td>\n",
       "      <td>423992.0</td>\n",
       "      <td>409564.0</td>\n",
       "      <td>320746.0</td>\n",
       "      <td>158022.0</td>\n",
       "      <td>95128.0</td>\n",
       "      <td>514.0</td>\n",
       "      <td>0.0</td>\n",
       "      <td>0.0</td>\n",
       "    </tr>\n",
       "    <tr>\n",
       "      <th>3</th>\n",
       "      <td>neg</td>\n",
       "      <td>12</td>\n",
       "      <td>0.0</td>\n",
       "      <td>7.000000e+01</td>\n",
       "      <td>66.0</td>\n",
       "      <td>0.0</td>\n",
       "      <td>10.0</td>\n",
       "      <td>0.0</td>\n",
       "      <td>0.0</td>\n",
       "      <td>0.0</td>\n",
       "      <td>...</td>\n",
       "      <td>240.0</td>\n",
       "      <td>46.0</td>\n",
       "      <td>58.0</td>\n",
       "      <td>44.0</td>\n",
       "      <td>10.0</td>\n",
       "      <td>0.0</td>\n",
       "      <td>0.0</td>\n",
       "      <td>0.0</td>\n",
       "      <td>4.0</td>\n",
       "      <td>32.0</td>\n",
       "    </tr>\n",
       "    <tr>\n",
       "      <th>4</th>\n",
       "      <td>neg</td>\n",
       "      <td>60874</td>\n",
       "      <td>NaN</td>\n",
       "      <td>1.368000e+03</td>\n",
       "      <td>458.0</td>\n",
       "      <td>0.0</td>\n",
       "      <td>0.0</td>\n",
       "      <td>0.0</td>\n",
       "      <td>0.0</td>\n",
       "      <td>0.0</td>\n",
       "      <td>...</td>\n",
       "      <td>622012.0</td>\n",
       "      <td>229790.0</td>\n",
       "      <td>405298.0</td>\n",
       "      <td>347188.0</td>\n",
       "      <td>286954.0</td>\n",
       "      <td>311560.0</td>\n",
       "      <td>433954.0</td>\n",
       "      <td>1218.0</td>\n",
       "      <td>0.0</td>\n",
       "      <td>0.0</td>\n",
       "    </tr>\n",
       "  </tbody>\n",
       "</table>\n",
       "<p>5 rows × 171 columns</p>\n",
       "</div>"
      ]
     },
     "metadata": {},
     "output_type": "display_data"
    }
   ],
   "source": [
    "x = pd.read_csv(\"aps_failure_training_set.csv\",na_values=[\"na\"])\n",
    "print(x.shape)\n",
    "x.head()"
   ]
  },
  {
   "cell_type": "code",
   "execution_count": 4,
   "metadata": {},
   "outputs": [
    {
     "name": "stdout",
     "output_type": "stream",
     "text": [
      "Total number of Train datapoints:  60000\n",
      "Total number of features:  171\n",
      "The column/feature names given are:\n",
      "  ['class', 'aa_000', 'ab_000', 'ac_000', 'ad_000', 'ae_000', 'af_000', 'ag_000', 'ag_001', 'ag_002', 'ag_003', 'ag_004', 'ag_005', 'ag_006', 'ag_007', 'ag_008', 'ag_009', 'ah_000', 'ai_000', 'aj_000', 'ak_000', 'al_000', 'am_0', 'an_000', 'ao_000', 'ap_000', 'aq_000', 'ar_000', 'as_000', 'at_000', 'au_000', 'av_000', 'ax_000', 'ay_000', 'ay_001', 'ay_002', 'ay_003', 'ay_004', 'ay_005', 'ay_006', 'ay_007', 'ay_008', 'ay_009', 'az_000', 'az_001', 'az_002', 'az_003', 'az_004', 'az_005', 'az_006', 'az_007', 'az_008', 'az_009', 'ba_000', 'ba_001', 'ba_002', 'ba_003', 'ba_004', 'ba_005', 'ba_006', 'ba_007', 'ba_008', 'ba_009', 'bb_000', 'bc_000', 'bd_000', 'be_000', 'bf_000', 'bg_000', 'bh_000', 'bi_000', 'bj_000', 'bk_000', 'bl_000', 'bm_000', 'bn_000', 'bo_000', 'bp_000', 'bq_000', 'br_000', 'bs_000', 'bt_000', 'bu_000', 'bv_000', 'bx_000', 'by_000', 'bz_000', 'ca_000', 'cb_000', 'cc_000', 'cd_000', 'ce_000', 'cf_000', 'cg_000', 'ch_000', 'ci_000', 'cj_000', 'ck_000', 'cl_000', 'cm_000', 'cn_000', 'cn_001', 'cn_002', 'cn_003', 'cn_004', 'cn_005', 'cn_006', 'cn_007', 'cn_008', 'cn_009', 'co_000', 'cp_000', 'cq_000', 'cr_000', 'cs_000', 'cs_001', 'cs_002', 'cs_003', 'cs_004', 'cs_005', 'cs_006', 'cs_007', 'cs_008', 'cs_009', 'ct_000', 'cu_000', 'cv_000', 'cx_000', 'cy_000', 'cz_000', 'da_000', 'db_000', 'dc_000', 'dd_000', 'de_000', 'df_000', 'dg_000', 'dh_000', 'di_000', 'dj_000', 'dk_000', 'dl_000', 'dm_000', 'dn_000', 'do_000', 'dp_000', 'dq_000', 'dr_000', 'ds_000', 'dt_000', 'du_000', 'dv_000', 'dx_000', 'dy_000', 'dz_000', 'ea_000', 'eb_000', 'ec_00', 'ed_000', 'ee_000', 'ee_001', 'ee_002', 'ee_003', 'ee_004', 'ee_005', 'ee_006', 'ee_007', 'ee_008', 'ee_009', 'ef_000', 'eg_000']\n"
     ]
    }
   ],
   "source": [
    "print(\"Total number of Train datapoints: \",x.shape[0])\n",
    "print(\"Total number of features: \",x.shape[1])\n",
    "\n",
    "print(\"The column/feature names given are:\\n \",list(x.columns))"
   ]
  },
  {
   "cell_type": "code",
   "execution_count": 5,
   "metadata": {},
   "outputs": [],
   "source": [
    "#'neg' and 'pos' to 0 and 1 respectively\n",
    "def get_correct_label(y):\n",
    "    return y.replace(['neg','pos'],[0,1])\n"
   ]
  },
  {
   "cell_type": "code",
   "execution_count": 6,
   "metadata": {},
   "outputs": [
    {
     "name": "stdout",
     "output_type": "stream",
     "text": [
      "['neg' 'pos']\n"
     ]
    }
   ],
   "source": [
    "print(x['class'].unique())"
   ]
  },
  {
   "cell_type": "code",
   "execution_count": 7,
   "metadata": {},
   "outputs": [
    {
     "name": "stdout",
     "output_type": "stream",
     "text": [
      "[0 1]\n"
     ]
    }
   ],
   "source": [
    "x['class'] = get_correct_label(x['class'])\n",
    "print(x['class'].unique())"
   ]
  },
  {
   "cell_type": "code",
   "execution_count": 8,
   "metadata": {},
   "outputs": [
    {
     "name": "stdout",
     "output_type": "stream",
     "text": [
      "The number of positive class points is:  1000\n",
      "The number of negative class points is:  59000\n"
     ]
    },
    {
     "data": {
      "image/png": "[encoded data removed]"
     },
     "metadata": {
      "image/png": {}
     },
     "output_type": "display_data"
    }
   ],
   "source": [
    "# Plotting the distribution of class label\n",
    "sns.barplot(x['class'].unique(),x['class'].value_counts())\n",
    "plt.title('Class Label Distribution')\n",
    "plt.xlabel('Class Label')\n",
    "plt.ylabel('Count')\n",
    "plt.show()\n",
    "\n",
    "print('The number of positive class points is: ',x['class'].value_counts()[1])\n",
    "print('The number of negative class points is: ',x['class'].value_counts()[0])"
   ]
  },
  {
   "cell_type": "code",
   "execution_count": 9,
   "metadata": {},
   "outputs": [
    {
     "name": "stdout",
     "output_type": "stream",
     "text": [
      "The features that are dropped due to having a constant value (0 std. dev.) are:  ['cd_000']\n",
      "Shape of our feature set:  (60000, 170)\n"
     ]
    }
   ],
   "source": [
    "#get s a list of columns that have std. deviation of 0\n",
    "def constant_value(df):\n",
    "\n",
    "    constant_value_feature = []\n",
    "    info = df.describe()\n",
    "    for i in df.columns:\n",
    "        if info[i]['std']==0:\n",
    "            constant_value_feature.append(i)\n",
    "    df.drop(constant_value_feature,axis=1,inplace=True)\n",
    "    return df,constant_value_feature\n",
    "\n",
    "x , dropped_feature = constant_value(x)\n",
    "print(\"The features that are dropped due to having a constant value (0 std. dev.) are: \",dropped_feature)\n",
    "print(\"Shape of our feature set: \",x.shape)"
   ]
  },
  {
   "cell_type": "code",
   "execution_count": 10,
   "metadata": {},
   "outputs": [],
   "source": [
    "\n",
    "# Creating a dictionary whose keys are the column names and values are the percentage of missing values\n",
    "nan_count = {k:list(x.isna().sum()*100/x.shape[0])[i] for i,k in enumerate(x.columns)}\n",
    "\n",
    "# Sorting the dictionary in descending order based on the percentage of missing values\n",
    "nan_count = {k: v for k, v in sorted(nan_count.items(), key=lambda item: item[1],reverse=True)}"
   ]
  },
  {
   "cell_type": "code",
   "execution_count": 11,
   "metadata": {},
   "outputs": [
    {
     "data": {
      "image/png": "[encoded data removed]"
     },
     "metadata": {
      "image/png": {}
     },
     "output_type": "display_data"
    }
   ],
   "source": [
    "# Plotting a graph showing the top 15 features having highest percentage of missing values \n",
    "sns.set_style(style=\"whitegrid\")\n",
    "plt.figure(figsize=(20,10))\n",
    "\n",
    "# Bar Plot\n",
    "plot = sns.barplot(x= list(nan_count.keys())[:15],y = list(nan_count.values())[:15],palette=\"hls\")\n",
    "\n",
    "# Add annotations above each bar signifying their value\n",
    "for p in plot.patches:\n",
    "        plot.annotate('{:.1f}%'.format(p.get_height()), (p.get_x()+0.2, p.get_height()+1))\n",
    "\n",
    "# Make y-axis more interpretable\n",
    "plot.set_yticklabels(map('{:.1f}%'.format, plot.yaxis.get_majorticklocs())) \n",
    "plt.show()"
   ]
  },
  {
   "cell_type": "code",
   "execution_count": 12,
   "metadata": {},
   "outputs": [
    {
     "name": "stdout",
     "output_type": "stream",
     "text": [
      "Earlier shape of x: (60000, 170)\n",
      "Shape after removal of rows and columns: (55973, 163)\n",
      "Number of features having missing values below 5%: 128\n"
     ]
    }
   ],
   "source": [
    "#get features having more than 70%  missing data, and removes rows that have NA values\n",
    "def remove_na(df,nan_feat):\n",
    "    # Removing  more than 70% NA\n",
    "    df = df.dropna(axis = 1, thresh=18000)\n",
    "    # Removing rows having NA from above created list of features\n",
    "    df = df.dropna(subset=nan_feat)\n",
    "    # Reset Index values \n",
    "    df = df.reset_index(drop=True)\n",
    "    return df\n",
    "\n",
    "print(\"Earlier shape of x:\",x.shape)\n",
    "\n",
    "# List of features having less than 5% NA\n",
    "na_5 = [k for k,v in nan_count.items() if v < 5]\n",
    "\n",
    "x = remove_na(x,na_5)\n",
    "print(\"Shape after removal of rows and columns:\",x.shape)\n",
    "print(\"Number of features having missing values below 5%:\",len(na_5))"
   ]
  },
  {
   "cell_type": "code",
   "execution_count": 13,
   "metadata": {},
   "outputs": [
    {
     "name": "stdout",
     "output_type": "stream",
     "text": [
      "Removed features are: ['br_000', 'bq_000', 'bp_000', 'bo_000', 'ab_000', 'cr_000', 'bn_000', 'cd_000']\n"
     ]
    }
   ],
   "source": [
    "# creating a list of the top 7 features having highest number of missing values\n",
    "na_70 = list(nan_count.keys())[:7]\n",
    "\n",
    "# Total removed features\n",
    "removed_features = na_70 + dropped_feature\n",
    "print(\"Removed features are:\", removed_features)"
   ]
  },
  {
   "cell_type": "code",
   "execution_count": 14,
   "metadata": {},
   "outputs": [],
   "source": [
    "\n",
    "# Seperating the class label from the other attributes after the NAN rows/columns were deleted\n",
    "y_train = x['class']\n",
    "x_train = x.drop('class',axis=1)"
   ]
  },
  {
   "cell_type": "code",
   "execution_count": 15,
   "metadata": {},
   "outputs": [
    {
     "name": "stdout",
     "output_type": "stream",
     "text": [
      "Number of features whose missing values are imputed with median are:\n",
      " 14\n"
     ]
    }
   ],
   "source": [
    "#impute missing values with mean, median and mice_imputer\n",
    "def imputation(df,mis_col):\n",
    "   \n",
    "    # Using sklearn's SimpleImputer\n",
    "    median_imputer = SimpleImputer(missing_values=np.NaN , strategy='median',copy=True)\n",
    "\n",
    "    # Creating a new dataframe of imputed values\n",
    "    median_df = median_imputer.fit_transform(df[mis_col])\n",
    "    df1 = df.copy()\n",
    "    df1[mis_col] = median_df\n",
    "\n",
    "    # Performing Model-Based Imputation\n",
    "    mice_imputer = IterativeImputer(estimator=Ridge(random_state=0),\n",
    "                                    random_state=0)\n",
    "    imputed_df = pd.DataFrame(data = mice_imputer.fit_transform(df1) , columns= df1.columns )\n",
    "\n",
    "    return imputed_df , median_imputer , mice_imputer\n",
    "\n",
    "# We will impute the missing values in features with their median\n",
    "median_imputed_features = [k for k,v in nan_count.items() if v >= 5 and v < 15]\n",
    "\n",
    "imputed_x_train , MEDIAN_imputer , MICE_imputer = imputation( x_train , median_imputed_features )\n",
    "print(\"Number of features whose missing values are imputed with median are:\\n\",len(median_imputed_features))"
   ]
  },
  {
   "cell_type": "code",
   "execution_count": 16,
   "metadata": {},
   "outputs": [
    {
     "name": "stdout",
     "output_type": "stream",
     "text": [
      "(16000, 171)\n",
      "Total number of Train datapoints:  16000\n",
      "Total number of features:  171\n"
     ]
    },
    {
     "data": {
      "text/html": [
       "<div>\n",
       "<style scoped>\n",
       "    .dataframe tbody tr th:only-of-type {\n",
       "        vertical-align: middle;\n",
       "    }\n",
       "\n",
       "    .dataframe tbody tr th {\n",
       "        vertical-align: top;\n",
       "    }\n",
       "\n",
       "    .dataframe thead th {\n",
       "        text-align: right;\n",
       "    }\n",
       "</style>\n",
       "<table border=\"1\" class=\"dataframe\">\n",
       "  <thead>\n",
       "    <tr style=\"text-align: right;\">\n",
       "      <th></th>\n",
       "      <th>class</th>\n",
       "      <th>aa_000</th>\n",
       "      <th>ab_000</th>\n",
       "      <th>ac_000</th>\n",
       "      <th>ad_000</th>\n",
       "      <th>ae_000</th>\n",
       "      <th>af_000</th>\n",
       "      <th>ag_000</th>\n",
       "      <th>ag_001</th>\n",
       "      <th>ag_002</th>\n",
       "      <th>...</th>\n",
       "      <th>ee_002</th>\n",
       "      <th>ee_003</th>\n",
       "      <th>ee_004</th>\n",
       "      <th>ee_005</th>\n",
       "      <th>ee_006</th>\n",
       "      <th>ee_007</th>\n",
       "      <th>ee_008</th>\n",
       "      <th>ee_009</th>\n",
       "      <th>ef_000</th>\n",
       "      <th>eg_000</th>\n",
       "    </tr>\n",
       "  </thead>\n",
       "  <tbody>\n",
       "    <tr>\n",
       "      <th>0</th>\n",
       "      <td>neg</td>\n",
       "      <td>60</td>\n",
       "      <td>0.0</td>\n",
       "      <td>20.0</td>\n",
       "      <td>12.0</td>\n",
       "      <td>0.0</td>\n",
       "      <td>0.0</td>\n",
       "      <td>0.0</td>\n",
       "      <td>0.0</td>\n",
       "      <td>0.0</td>\n",
       "      <td>...</td>\n",
       "      <td>1098.0</td>\n",
       "      <td>138.0</td>\n",
       "      <td>412.0</td>\n",
       "      <td>654.0</td>\n",
       "      <td>78.0</td>\n",
       "      <td>88.0</td>\n",
       "      <td>0.0</td>\n",
       "      <td>0.0</td>\n",
       "      <td>0.0</td>\n",
       "      <td>0.0</td>\n",
       "    </tr>\n",
       "    <tr>\n",
       "      <th>1</th>\n",
       "      <td>neg</td>\n",
       "      <td>82</td>\n",
       "      <td>0.0</td>\n",
       "      <td>68.0</td>\n",
       "      <td>40.0</td>\n",
       "      <td>0.0</td>\n",
       "      <td>0.0</td>\n",
       "      <td>0.0</td>\n",
       "      <td>0.0</td>\n",
       "      <td>0.0</td>\n",
       "      <td>...</td>\n",
       "      <td>1068.0</td>\n",
       "      <td>276.0</td>\n",
       "      <td>1620.0</td>\n",
       "      <td>116.0</td>\n",
       "      <td>86.0</td>\n",
       "      <td>462.0</td>\n",
       "      <td>0.0</td>\n",
       "      <td>0.0</td>\n",
       "      <td>0.0</td>\n",
       "      <td>0.0</td>\n",
       "    </tr>\n",
       "    <tr>\n",
       "      <th>2</th>\n",
       "      <td>neg</td>\n",
       "      <td>66002</td>\n",
       "      <td>2.0</td>\n",
       "      <td>212.0</td>\n",
       "      <td>112.0</td>\n",
       "      <td>0.0</td>\n",
       "      <td>0.0</td>\n",
       "      <td>0.0</td>\n",
       "      <td>0.0</td>\n",
       "      <td>0.0</td>\n",
       "      <td>...</td>\n",
       "      <td>495076.0</td>\n",
       "      <td>380368.0</td>\n",
       "      <td>440134.0</td>\n",
       "      <td>269556.0</td>\n",
       "      <td>1315022.0</td>\n",
       "      <td>153680.0</td>\n",
       "      <td>516.0</td>\n",
       "      <td>0.0</td>\n",
       "      <td>0.0</td>\n",
       "      <td>0.0</td>\n",
       "    </tr>\n",
       "    <tr>\n",
       "      <th>3</th>\n",
       "      <td>neg</td>\n",
       "      <td>59816</td>\n",
       "      <td>NaN</td>\n",
       "      <td>1010.0</td>\n",
       "      <td>936.0</td>\n",
       "      <td>0.0</td>\n",
       "      <td>0.0</td>\n",
       "      <td>0.0</td>\n",
       "      <td>0.0</td>\n",
       "      <td>0.0</td>\n",
       "      <td>...</td>\n",
       "      <td>540820.0</td>\n",
       "      <td>243270.0</td>\n",
       "      <td>483302.0</td>\n",
       "      <td>485332.0</td>\n",
       "      <td>431376.0</td>\n",
       "      <td>210074.0</td>\n",
       "      <td>281662.0</td>\n",
       "      <td>3232.0</td>\n",
       "      <td>0.0</td>\n",
       "      <td>0.0</td>\n",
       "    </tr>\n",
       "    <tr>\n",
       "      <th>4</th>\n",
       "      <td>neg</td>\n",
       "      <td>1814</td>\n",
       "      <td>NaN</td>\n",
       "      <td>156.0</td>\n",
       "      <td>140.0</td>\n",
       "      <td>0.0</td>\n",
       "      <td>0.0</td>\n",
       "      <td>0.0</td>\n",
       "      <td>0.0</td>\n",
       "      <td>0.0</td>\n",
       "      <td>...</td>\n",
       "      <td>7646.0</td>\n",
       "      <td>4144.0</td>\n",
       "      <td>18466.0</td>\n",
       "      <td>49782.0</td>\n",
       "      <td>3176.0</td>\n",
       "      <td>482.0</td>\n",
       "      <td>76.0</td>\n",
       "      <td>0.0</td>\n",
       "      <td>0.0</td>\n",
       "      <td>0.0</td>\n",
       "    </tr>\n",
       "  </tbody>\n",
       "</table>\n",
       "<p>5 rows × 171 columns</p>\n",
       "</div>"
      ]
     },
     "metadata": {},
     "output_type": "display_data"
    }
   ],
   "source": [
    "#find out the train data points and shape\n",
    "x_test = pd.read_csv(\"aps_failure_test_set.csv\",na_values=[\"na\"])\n",
    "print(x_test.shape)\n",
    "print(\"Total number of Train datapoints: \",x_test.shape[0])\n",
    "print(\"Total number of features: \",x_test.shape[1])\n",
    "x_test.head()"
   ]
  },
  {
   "cell_type": "code",
   "execution_count": 17,
   "metadata": {},
   "outputs": [],
   "source": [
    "#process the data before modeling for imputtions\n",
    "def preprocess_test_data( x , na_features , median_features , imputer_median , imputer_mice):\n",
    "    # Replace 'neg' and 'pos' with 0,1 in our dataset\n",
    "    x['class'] = x['class'].replace(['neg','pos'],[0,1])\n",
    "    \n",
    "    # Seperate Class label from the rest of the dataset\n",
    "    y = x['class']\n",
    "    x = x.drop('class',axis=1)\n",
    "    \n",
    "    # Drop Features with high percentage of missing values\n",
    "    x = x.drop(na_features , axis=1)\n",
    "    \n",
    "    x[median_features] = imputer_median.transform(x[median_features])\n",
    "    \n",
    "    x = pd.DataFrame(data = imputer_mice.transform(x) , columns= x.columns )\n",
    "    \n",
    "    return x,y\n",
    "\n"
   ]
  },
  {
   "cell_type": "code",
   "execution_count": 18,
   "metadata": {},
   "outputs": [
    {
     "name": "stdout",
     "output_type": "stream",
     "text": [
      "Shape of Test data: (16000, 162)\n"
     ]
    }
   ],
   "source": [
    "#Pass both test of the data set for above deinfed preproessing task of median and MICE \n",
    "x_test , y_test = preprocess_test_data(x_test,\n",
    "                                       removed_features,\n",
    "                                       median_imputed_features,\n",
    "                                       MEDIAN_imputer,\n",
    "                                       MICE_imputer )\n",
    "print(\"Shape of Test data:\",x_test.shape)"
   ]
  },
  {
   "cell_type": "code",
   "execution_count": 18,
   "metadata": {},
   "outputs": [],
   "source": []
  },
  {
   "cell_type": "code",
   "execution_count": 19,
   "metadata": {},
   "outputs": [],
   "source": [
    "#Bins in each identifier\n",
    "def Identifier_Bin_count(x):\n",
    "    prefix = []\n",
    "    # For each feature name, find it's Identifier and count  \n",
    "    for name in x.columns:\n",
    "        prefix.append(name.split('_')[0])\n",
    "    counter = Counter(prefix)\n",
    "    return list(counter.keys()),list(counter.values())"
   ]
  },
  {
   "cell_type": "code",
   "execution_count": 19,
   "metadata": {},
   "outputs": [],
   "source": [
    "feature_prefix , bin_count = Identifier_Bin_count(imputed_x_train)"
   ]
  },
  {
   "cell_type": "code",
   "execution_count": 20,
   "metadata": {},
   "outputs": [
    {
     "name": "stdout",
     "output_type": "stream",
     "text": [
      "The Histogram Identifiers are:  ['ag', 'ay', 'az', 'ba', 'cn', 'cs', 'ee']\n",
      "\n",
      "There are 70 features that contain histogram bin information and they are: \n",
      " ['ag_000', 'ag_001', 'ag_002', 'ag_003', 'ag_004', 'ag_005', 'ag_006', 'ag_007', 'ag_008', 'ag_009', 'ay_000', 'ay_001', 'ay_002', 'ay_003', 'ay_004', 'ay_005', 'ay_006', 'ay_007', 'ay_008', 'ay_009', 'az_000', 'az_001', 'az_002', 'az_003', 'az_004', 'az_005', 'az_006', 'az_007', 'az_008', 'az_009', 'ba_000', 'ba_001', 'ba_002', 'ba_003', 'ba_004', 'ba_005', 'ba_006', 'ba_007', 'ba_008', 'ba_009', 'cn_000', 'cn_001', 'cn_002', 'cn_003', 'cn_004', 'cn_005', 'cn_006', 'cn_007', 'cn_008', 'cn_009', 'cs_000', 'cs_001', 'cs_002', 'cs_003', 'cs_004', 'cs_005', 'cs_006', 'cs_007', 'cs_008', 'cs_009', 'ee_000', 'ee_001', 'ee_002', 'ee_003', 'ee_004', 'ee_005', 'ee_006', 'ee_007', 'ee_008', 'ee_009']\n"
     ]
    }
   ],
   "source": [
    "# Getting the Identifier of the histogram features\n",
    "hist_identifier = [feature_prefix[i] for i,j in enumerate(bin_count) if j==10]\n",
    "print(\"The Histogram Identifiers are: \",hist_identifier)\n",
    "\n",
    "# Getting the names of the features having histograms bin information\n",
    "hist_features = [i for i in x_train.columns if i.split('_')[0] in hist_identifier]\n",
    "print(\"\\nThere are\",len(hist_features),\"features that contain histogram bin information and they are: \\n\",hist_features)"
   ]
  },
  {
   "cell_type": "code",
   "execution_count": 20,
   "metadata": {},
   "outputs": [],
   "source": []
  },
  {
   "cell_type": "code",
   "execution_count": 21,
   "metadata": {},
   "outputs": [],
   "source": [
    "histogram_data = imputed_x_train[hist_features]\n",
    "x_without_hist = imputed_x_train.drop(hist_features,axis=1)"
   ]
  },
  {
   "cell_type": "code",
   "execution_count": 22,
   "metadata": {},
   "outputs": [
    {
     "name": "stdout",
     "output_type": "stream",
     "text": [
      "Fitting estimator with 70 features.\n",
      "Fitting estimator with 69 features.\n",
      "Fitting estimator with 68 features.\n",
      "Fitting estimator with 67 features.\n",
      "Fitting estimator with 66 features.\n",
      "Fitting estimator with 65 features.\n",
      "Fitting estimator with 64 features.\n",
      "Fitting estimator with 63 features.\n",
      "Fitting estimator with 62 features.\n",
      "Fitting estimator with 61 features.\n",
      "Fitting estimator with 60 features.\n",
      "Fitting estimator with 59 features.\n",
      "Fitting estimator with 58 features.\n",
      "Fitting estimator with 57 features.\n",
      "Fitting estimator with 56 features.\n",
      "Fitting estimator with 55 features.\n",
      "Fitting estimator with 54 features.\n",
      "Fitting estimator with 53 features.\n",
      "Fitting estimator with 52 features.\n",
      "Fitting estimator with 51 features.\n",
      "Fitting estimator with 50 features.\n",
      "Fitting estimator with 49 features.\n",
      "Fitting estimator with 48 features.\n",
      "Fitting estimator with 47 features.\n",
      "Fitting estimator with 46 features.\n",
      "Fitting estimator with 45 features.\n",
      "Fitting estimator with 44 features.\n",
      "Fitting estimator with 43 features.\n",
      "Fitting estimator with 42 features.\n",
      "Fitting estimator with 41 features.\n",
      "Fitting estimator with 40 features.\n",
      "Fitting estimator with 39 features.\n",
      "Fitting estimator with 38 features.\n",
      "Fitting estimator with 37 features.\n",
      "Fitting estimator with 36 features.\n",
      "Fitting estimator with 35 features.\n",
      "Fitting estimator with 34 features.\n",
      "Fitting estimator with 33 features.\n",
      "Fitting estimator with 32 features.\n",
      "Fitting estimator with 31 features.\n",
      "Fitting estimator with 30 features.\n",
      "Fitting estimator with 29 features.\n",
      "Fitting estimator with 28 features.\n",
      "Fitting estimator with 27 features.\n",
      "Fitting estimator with 26 features.\n",
      "Fitting estimator with 25 features.\n",
      "Fitting estimator with 24 features.\n",
      "Fitting estimator with 23 features.\n",
      "Fitting estimator with 22 features.\n",
      "Fitting estimator with 21 features.\n",
      "Fitting estimator with 20 features.\n",
      "Fitting estimator with 19 features.\n",
      "Fitting estimator with 18 features.\n",
      "Fitting estimator with 17 features.\n",
      "Fitting estimator with 16 features.\n",
      "The top features selected after Recursive Feature Elimination are: \n",
      " ['ag_001', 'ag_002', 'ag_003', 'ay_005', 'ay_006', 'ay_008', 'ba_002', 'ba_003', 'ba_004', 'cn_000', 'cn_004', 'cs_002', 'cs_004', 'ee_003', 'ee_005']\n"
     ]
    }
   ],
   "source": [
    "#Feature removing using Random Forest Classifier\n",
    "def get_top(df,y,n):\n",
    "    # Use RFE algorithm from sklearn to perform feature selection\n",
    "    feature_select = RFE(estimator=RandomForestClassifier(n_estimators=150,max_depth=5,random_state=1),\n",
    "                         n_features_to_select=n,\n",
    "                         verbose=5)\n",
    "    feature_select.fit(df,y)\n",
    "\n",
    "    # support_ gives an array of True/False for each feature where True signifies that the feature is selected\n",
    "    top_f = [ c for i,c in enumerate(df.columns.tolist()) if feature_select.support_[i] ]   \n",
    "    return top_f\n",
    "\n",
    "top_feature_hist = get_top(histogram_data,y_train,15)\n",
    "print(\"The top features selected after Recursive Feature Elimination are: \\n\",top_feature_hist)"
   ]
  },
  {
   "cell_type": "code",
   "execution_count": 23,
   "metadata": {},
   "outputs": [
    {
     "data": {
      "text/html": [
       "<div>\n",
       "<style scoped>\n",
       "    .dataframe tbody tr th:only-of-type {\n",
       "        vertical-align: middle;\n",
       "    }\n",
       "\n",
       "    .dataframe tbody tr th {\n",
       "        vertical-align: top;\n",
       "    }\n",
       "\n",
       "    .dataframe thead th {\n",
       "        text-align: right;\n",
       "    }\n",
       "</style>\n",
       "<table border=\"1\" class=\"dataframe\">\n",
       "  <thead>\n",
       "    <tr style=\"text-align: right;\">\n",
       "      <th></th>\n",
       "      <th>ag_001</th>\n",
       "      <th>ag_002</th>\n",
       "      <th>ag_003</th>\n",
       "      <th>ay_005</th>\n",
       "      <th>ay_006</th>\n",
       "      <th>ay_008</th>\n",
       "      <th>ba_002</th>\n",
       "      <th>ba_003</th>\n",
       "      <th>ba_004</th>\n",
       "      <th>cn_000</th>\n",
       "      <th>cn_004</th>\n",
       "      <th>cs_002</th>\n",
       "      <th>cs_004</th>\n",
       "      <th>ee_003</th>\n",
       "      <th>ee_005</th>\n",
       "      <th>class</th>\n",
       "    </tr>\n",
       "  </thead>\n",
       "  <tbody>\n",
       "    <tr>\n",
       "      <th>0</th>\n",
       "      <td>0.0</td>\n",
       "      <td>0.0</td>\n",
       "      <td>0.0</td>\n",
       "      <td>469014.0</td>\n",
       "      <td>4239660.0</td>\n",
       "      <td>755876.0</td>\n",
       "      <td>415432.0</td>\n",
       "      <td>287230.0</td>\n",
       "      <td>310246.0</td>\n",
       "      <td>0.0</td>\n",
       "      <td>1309472.0</td>\n",
       "      <td>267998.0</td>\n",
       "      <td>428776.0</td>\n",
       "      <td>493384.0</td>\n",
       "      <td>469792.0</td>\n",
       "      <td>0</td>\n",
       "    </tr>\n",
       "    <tr>\n",
       "      <th>1</th>\n",
       "      <td>0.0</td>\n",
       "      <td>0.0</td>\n",
       "      <td>0.0</td>\n",
       "      <td>71510.0</td>\n",
       "      <td>772720.0</td>\n",
       "      <td>99560.0</td>\n",
       "      <td>199512.0</td>\n",
       "      <td>154298.0</td>\n",
       "      <td>137280.0</td>\n",
       "      <td>0.0</td>\n",
       "      <td>1179502.0</td>\n",
       "      <td>164860.0</td>\n",
       "      <td>272956.0</td>\n",
       "      <td>178064.0</td>\n",
       "      <td>245416.0</td>\n",
       "      <td>0</td>\n",
       "    </tr>\n",
       "    <tr>\n",
       "      <th>2</th>\n",
       "      <td>0.0</td>\n",
       "      <td>0.0</td>\n",
       "      <td>0.0</td>\n",
       "      <td>0.0</td>\n",
       "      <td>870456.0</td>\n",
       "      <td>1450312.0</td>\n",
       "      <td>332340.0</td>\n",
       "      <td>254892.0</td>\n",
       "      <td>189596.0</td>\n",
       "      <td>0.0</td>\n",
       "      <td>1215280.0</td>\n",
       "      <td>56362.0</td>\n",
       "      <td>100326.0</td>\n",
       "      <td>159812.0</td>\n",
       "      <td>409564.0</td>\n",
       "      <td>0</td>\n",
       "    </tr>\n",
       "    <tr>\n",
       "      <th>3</th>\n",
       "      <td>0.0</td>\n",
       "      <td>0.0</td>\n",
       "      <td>318.0</td>\n",
       "      <td>0.0</td>\n",
       "      <td>0.0</td>\n",
       "      <td>5596.0</td>\n",
       "      <td>304.0</td>\n",
       "      <td>102.0</td>\n",
       "      <td>74.0</td>\n",
       "      <td>0.0</td>\n",
       "      <td>2170.0</td>\n",
       "      <td>24.0</td>\n",
       "      <td>692.0</td>\n",
       "      <td>46.0</td>\n",
       "      <td>44.0</td>\n",
       "      <td>0</td>\n",
       "    </tr>\n",
       "    <tr>\n",
       "      <th>4</th>\n",
       "      <td>0.0</td>\n",
       "      <td>0.0</td>\n",
       "      <td>0.0</td>\n",
       "      <td>372236.0</td>\n",
       "      <td>2128914.0</td>\n",
       "      <td>584074.0</td>\n",
       "      <td>338762.0</td>\n",
       "      <td>236540.0</td>\n",
       "      <td>182278.0</td>\n",
       "      <td>0.0</td>\n",
       "      <td>2497104.0</td>\n",
       "      <td>80950.0</td>\n",
       "      <td>186242.0</td>\n",
       "      <td>229790.0</td>\n",
       "      <td>347188.0</td>\n",
       "      <td>0</td>\n",
       "    </tr>\n",
       "  </tbody>\n",
       "</table>\n",
       "</div>"
      ]
     },
     "metadata": {},
     "output_type": "display_data"
    }
   ],
   "source": [
    "\n",
    "# Create a dataframe which is a subset of our original dataset and consists of only the top features and the class label\n",
    "top_features = pd.DataFrame(data=x_train[top_feature_hist],columns=top_feature_hist)\n",
    "top_features['class'] = y_train\n",
    "top_features.head()"
   ]
  },
  {
   "cell_type": "code",
   "execution_count": 24,
   "metadata": {},
   "outputs": [
    {
     "name": "stdout",
     "output_type": "stream",
     "text": [
      "\u001b[1mFeature 'ag_001' , Class Label 1, Mean: 42503.54\n",
      "Standard Deviation 232360.91 \n",
      "\n",
      "Feature 'ag_001' , Class Label 0, Mean: 114.5\n",
      "And Standard Deviation is 5281.05 \n",
      "****************************************************************************************************\n",
      "\u001b[1mFeature 'ag_002' , Class Label 1, Mean: 320375.83\n",
      "Standard Deviation 822733.38 \n",
      "\n",
      "Feature 'ag_002' , Class Label 0, Mean: 1203.01\n",
      "And Standard Deviation is 32764.93 \n",
      "****************************************************************************************************\n",
      "\u001b[1mFeature 'ag_003' , Class Label 1, Mean: 2038674.17\n",
      "Standard Deviation 3278082.14 \n",
      "\n",
      "Feature 'ag_003' , Class Label 0, Mean: 29728.63\n",
      "And Standard Deviation is 351415.59 \n",
      "****************************************************************************************************\n",
      "\u001b[1mFeature 'ay_005' , Class Label 1, Mean: 1034242.09\n",
      "Standard Deviation 4858700.79 \n",
      "\n",
      "Feature 'ay_005' , Class Label 0, Mean: 54497.11\n",
      "And Standard Deviation is 535247.53 \n",
      "****************************************************************************************************\n",
      "\u001b[1mFeature 'ay_006' , Class Label 1, Mean: 4650066.56\n",
      "Standard Deviation 10313604.8 \n",
      "\n",
      "Feature 'ay_006' , Class Label 0, Mean: 886393.89\n",
      "And Standard Deviation is 1942371.11 \n",
      "****************************************************************************************************\n",
      "\u001b[1mFeature 'ay_008' , Class Label 1, Mean: 12522092.96\n",
      "Standard Deviation 14692657.97 \n",
      "\n",
      "Feature 'ay_008' , Class Label 0, Mean: 669370.15\n",
      "And Standard Deviation is 2232769.33 \n",
      "****************************************************************************************************\n",
      "\u001b[1mFeature 'ba_002' , Class Label 1, Mean: 3117128.09\n",
      "Standard Deviation 2908748.3 \n",
      "\n",
      "Feature 'ba_002' , Class Label 0, Mean: 275677.46\n",
      "And Standard Deviation is 645388.32 \n",
      "****************************************************************************************************\n",
      "\u001b[1mFeature 'ba_003' , Class Label 1, Mean: 2099777.07\n",
      "Standard Deviation 1947424.14 \n",
      "\n",
      "Feature 'ba_003' , Class Label 0, Mean: 187948.58\n",
      "And Standard Deviation is 397302.96 \n",
      "****************************************************************************************************\n",
      "\u001b[1mFeature 'ba_004' , Class Label 1, Mean: 1571623.13\n",
      "Standard Deviation 1522554.8 \n",
      "\n",
      "Feature 'ba_004' , Class Label 0, Mean: 144615.66\n",
      "And Standard Deviation is 288026.2 \n",
      "****************************************************************************************************\n",
      "\u001b[1mFeature 'cn_000' , Class Label 1, Mean: 116715.71\n",
      "Standard Deviation 471065.04 \n",
      "\n",
      "Feature 'cn_000' , Class Label 0, Mean: 410.59\n",
      "And Standard Deviation is 17339.97 \n",
      "****************************************************************************************************\n",
      "\u001b[1mFeature 'cn_004' , Class Label 1, Mean: 9901680.81\n",
      "Standard Deviation 10102304.72 \n",
      "\n",
      "Feature 'cn_004' , Class Label 0, Mean: 900314.56\n",
      "And Standard Deviation is 1907121.93 \n",
      "****************************************************************************************************\n",
      "\u001b[1mFeature 'cs_002' , Class Label 1, Mean: 2905755.64\n",
      "Standard Deviation 3685371.14 \n",
      "\n",
      "Feature 'cs_002' , Class Label 0, Mean: 126004.95\n",
      "And Standard Deviation is 683806.88 \n",
      "****************************************************************************************************\n",
      "\u001b[1mFeature 'cs_004' , Class Label 1, Mean: 5780159.69\n",
      "Standard Deviation 8907309.94 \n",
      "\n",
      "Feature 'cs_004' , Class Label 0, Mean: 241717.18\n",
      "And Standard Deviation is 1026424.43 \n",
      "****************************************************************************************************\n",
      "\u001b[1mFeature 'ee_003' , Class Label 1, Mean: 1586282.44\n",
      "Standard Deviation 1900148.65 \n",
      "\n",
      "Feature 'ee_003' , Class Label 0, Mean: 159675.15\n",
      "And Standard Deviation is 339293.25 \n",
      "****************************************************************************************************\n",
      "\u001b[1mFeature 'ee_005' , Class Label 1, Mean: 3597279.1\n",
      "Standard Deviation 4318345.11 \n",
      "\n",
      "Feature 'ee_005' , Class Label 0, Mean: 286959.68\n",
      "And Standard Deviation is 527650.47 \n",
      "****************************************************************************************************\n"
     ]
    },
    {
     "data": {
      "image/png": "[encoded data removed]"
     },
     "metadata": {
      "image/png": {}
     },
     "output_type": "display_data"
    }
   ],
   "source": [
    "#plot probability Density Function & Cumulative Density Function \n",
    "def plots(x):\n",
    "    for n in x.columns.tolist():\n",
    "        if n != 'class':\n",
    "\n",
    "            describe_0 = x[x['class']==0].describe()\n",
    "            describe_1 = x[x['class']==1].describe()\n",
    "\n",
    "            fig,ax = plt.subplots(1,3,figsize=(12,4))\n",
    "            \n",
    "            print( '\\033[1m' + \"Feature '{}' , Class Label 1, Mean: {}\".format(n , round(describe_1[n].iloc[1],2) ) )\n",
    "            print( \"Standard Deviation {} \".format( round(describe_1[n].iloc[2],2) ) )\n",
    "            print( \"\\nFeature '{}' , Class Label 0, Mean: {}\".format(n , round(describe_0[n].iloc[1],2) ) )\n",
    "            print( \"And Standard Deviation is {} \".format( round(describe_0[n].iloc[2],2) ) )\n",
    "            \n",
    "            sns.set_theme(style='white')\n",
    "            # Plot PDF of points belonging to negative class\n",
    "            sns.distplot(x[x['class']==0][n],ax=ax[0],hist=False)\n",
    "            # Plot PDF of points belonging to positive class \n",
    "            sns.distplot(x[x['class']==1][n],ax=ax[0],hist=False)\n",
    "            # Plot CDF of the feature values\n",
    "            sns.kdeplot(data=x, x=x[n], hue=\"class\",cumulative=True, common_norm=False, common_grid=True,ax=ax[1])\n",
    "            # Plot the Box-Plot\n",
    "            sns.boxplot(x=x['class'],y=x[n],ax=ax[2])\n",
    "            plt.show()\n",
    "            print('*'*100)\n",
    "\n",
    "plots(top_features)"
   ]
  },
  {
   "cell_type": "code",
   "execution_count": 25,
   "metadata": {},
   "outputs": [
    {
     "data": {
      "image/png": "[encoded data removed]"
     },
     "metadata": {
      "image/png": {}
     },
     "output_type": "display_data"
    }
   ],
   "source": [
    "\n",
    "# Plot Correlation Heatmap      \n",
    "plt.figure(figsize=(20,11))\n",
    "sns.heatmap(top_features.corr(),annot=True)\n",
    "plt.title(\"Correlation Matrix\")\n",
    "plt.show()"
   ]
  },
  {
   "cell_type": "code",
   "execution_count": 26,
   "metadata": {},
   "outputs": [
    {
     "name": "stdout",
     "output_type": "stream",
     "text": [
      "Most Uncorrelated Feature is ay_005\n"
     ]
    }
   ],
   "source": [
    "# Getting correlation coeffiecients of features w.r.t class\n",
    "correlation_values = top_features.corr().loc['class']\n",
    "\n",
    "# Get top 5 features\n",
    "top_correlated_features = correlation_values.sort_values().iloc[:5].index.tolist()\n",
    "print(\"Most Uncorrelated Feature is\",top_correlated_features[0])"
   ]
  },
  {
   "cell_type": "code",
   "execution_count": 28,
   "metadata": {},
   "outputs": [
    {
     "name": "stdout",
     "output_type": "stream",
     "text": [
      "Fitting estimator with 92 features.\n",
      "Fitting estimator with 91 features.\n",
      "Fitting estimator with 90 features.\n",
      "Fitting estimator with 89 features.\n",
      "Fitting estimator with 88 features.\n",
      "Fitting estimator with 87 features.\n",
      "Fitting estimator with 86 features.\n",
      "Fitting estimator with 85 features.\n",
      "Fitting estimator with 84 features.\n",
      "Fitting estimator with 83 features.\n",
      "Fitting estimator with 82 features.\n",
      "Fitting estimator with 81 features.\n",
      "Fitting estimator with 80 features.\n",
      "Fitting estimator with 79 features.\n",
      "Fitting estimator with 78 features.\n",
      "Fitting estimator with 77 features.\n",
      "Fitting estimator with 76 features.\n",
      "Fitting estimator with 75 features.\n",
      "Fitting estimator with 74 features.\n",
      "Fitting estimator with 73 features.\n",
      "Fitting estimator with 72 features.\n",
      "Fitting estimator with 71 features.\n",
      "Fitting estimator with 70 features.\n",
      "Fitting estimator with 69 features.\n",
      "Fitting estimator with 68 features.\n",
      "Fitting estimator with 67 features.\n",
      "Fitting estimator with 66 features.\n",
      "Fitting estimator with 65 features.\n",
      "Fitting estimator with 64 features.\n",
      "Fitting estimator with 63 features.\n",
      "Fitting estimator with 62 features.\n",
      "Fitting estimator with 61 features.\n",
      "Fitting estimator with 60 features.\n",
      "Fitting estimator with 59 features.\n",
      "Fitting estimator with 58 features.\n",
      "Fitting estimator with 57 features.\n",
      "Fitting estimator with 56 features.\n",
      "Fitting estimator with 55 features.\n",
      "Fitting estimator with 54 features.\n",
      "Fitting estimator with 53 features.\n",
      "Fitting estimator with 52 features.\n",
      "Fitting estimator with 51 features.\n",
      "Fitting estimator with 50 features.\n",
      "Fitting estimator with 49 features.\n",
      "Fitting estimator with 48 features.\n",
      "Fitting estimator with 47 features.\n",
      "Fitting estimator with 46 features.\n",
      "Fitting estimator with 45 features.\n",
      "Fitting estimator with 44 features.\n",
      "Fitting estimator with 43 features.\n",
      "Fitting estimator with 42 features.\n",
      "Fitting estimator with 41 features.\n",
      "Fitting estimator with 40 features.\n",
      "Fitting estimator with 39 features.\n",
      "Fitting estimator with 38 features.\n",
      "Fitting estimator with 37 features.\n",
      "Fitting estimator with 36 features.\n",
      "Fitting estimator with 35 features.\n",
      "Fitting estimator with 34 features.\n",
      "Fitting estimator with 33 features.\n",
      "Fitting estimator with 32 features.\n",
      "Fitting estimator with 31 features.\n",
      "Fitting estimator with 30 features.\n",
      "Fitting estimator with 29 features.\n",
      "Fitting estimator with 28 features.\n",
      "Fitting estimator with 27 features.\n",
      "Fitting estimator with 26 features.\n",
      "Fitting estimator with 25 features.\n",
      "Fitting estimator with 24 features.\n",
      "Fitting estimator with 23 features.\n",
      "Fitting estimator with 22 features.\n",
      "Fitting estimator with 21 features.\n",
      "Fitting estimator with 20 features.\n",
      "Fitting estimator with 19 features.\n",
      "Fitting estimator with 18 features.\n",
      "Fitting estimator with 17 features.\n",
      "Fitting estimator with 16 features.\n",
      "The top features selected after Recursive Feature Elimination are: \n",
      " ['aa_000', 'al_000', 'am_0', 'ap_000', 'aq_000', 'bj_000', 'bu_000', 'bv_000', 'ci_000', 'cj_000', 'cq_000', 'dg_000', 'dn_000', 'do_000', 'dx_000']\n"
     ]
    }
   ],
   "source": [
    "\n",
    "# Calling the function created earlier to select top features\n",
    "top_feature_num = get_top(x_without_hist , y_train , 15)\n",
    "print(\"The top features selected after Recursive Feature Elimination are: \\n\",top_feature_num)"
   ]
  },
  {
   "cell_type": "code",
   "execution_count": 32,
   "metadata": {},
   "outputs": [
    {
     "name": "stdout",
     "output_type": "stream",
     "text": [
      "Most Uncorrelated Feature is dx_000\n"
     ]
    }
   ],
   "source": [
    "# Getting correlation coeffiecients of features w.r.t class\n",
    "correlation_values = top_features.corr().loc['class']\n",
    "\n",
    "# Get top 5 features\n",
    "top_correlated_features = correlation_values.sort_values().iloc[:5].index.tolist()\n",
    "print(\"Most Uncorrelated Feature is\",top_correlated_features[0])"
   ]
  },
  {
   "cell_type": "code",
   "execution_count": 33,
   "metadata": {},
   "outputs": [],
   "source": []
  },
  {
   "cell_type": "code",
   "execution_count": 34,
   "metadata": {},
   "outputs": [],
   "source": [
    "#use MinMax scaler to transforms features \n",
    "def scale_data(df):\n",
    "    min_max = MinMaxScaler()\n",
    "    df = pd.DataFrame( data = min_max.fit_transform(df) , columns = df.columns )\n",
    "    return df , min_max"
   ]
  },
  {
   "cell_type": "code",
   "execution_count": 35,
   "metadata": {},
   "outputs": [],
   "source": [
    "#balance unmbalanced dataset\n",
    "def balance_data(df,label):\n",
    "    over = SMOTE(sampling_strategy=0.3)\n",
    "    under = RandomUnderSampler(sampling_strategy=0.5)\n",
    "    steps = [('o', over), ('u', under)]\n",
    "    pipeline = Pipeline(steps=steps)\n",
    "    df, label = pipeline.fit_resample(df, label)\n",
    "    return df, label\n"
   ]
  },
  {
   "cell_type": "code",
   "execution_count": 36,
   "metadata": {},
   "outputs": [
    {
     "name": "stdout",
     "output_type": "stream",
     "text": [
      "(49839, 162)\n",
      "0    33226\n",
      "1    16613\n",
      "Name: class, dtype: int64\n"
     ]
    }
   ],
   "source": [
    "#both negative and positive balanced data set post balancing\n",
    "X_train, Y_train = balance_data(imputed_x_train , y_train)\n",
    "print(X_train.shape)\n",
    "print(Y_train.value_counts())"
   ]
  },
  {
   "cell_type": "code",
   "execution_count": 37,
   "metadata": {},
   "outputs": [
    {
     "name": "stdout",
     "output_type": "stream",
     "text": [
      "(49839, 162) (16000, 162)\n"
     ]
    }
   ],
   "source": [
    "#Transform using scalor the test data\n",
    "X_train_scale,scaler = scale_data(X_train)\n",
    "X_test_scale = pd.DataFrame(data = scaler.transform(x_test) , columns=x_test.columns)\n",
    "print(X_train_scale.shape,X_test_scale.shape)"
   ]
  },
  {
   "cell_type": "code",
   "execution_count": 38,
   "metadata": {},
   "outputs": [],
   "source": [
    "#defining hyper paramter tuning function\n",
    "def tuning( x , y , model , params , cv=10 ,verbose=10 ):\n",
    "    # Define the model that performs Hyperparameter tuning\n",
    "    clf = GridSearchCV(estimator= model,\n",
    "                       param_grid= params,\n",
    "                       scoring= 'f1_macro',\n",
    "                       cv= cv,                         \n",
    "                       verbose= verbose,\n",
    "                       n_jobs= -1)\n",
    "    \n",
    "    # Fit the model to the dataset\n",
    "    clf.fit( x , y )\n",
    "    return clf.best_params_ , clf.best_score_"
   ]
  },
  {
   "cell_type": "code",
   "execution_count": 39,
   "metadata": {},
   "outputs": [],
   "source": [
    "#create confusion matrix using the tuned parameters\n",
    "def plot_confusion( y_test , y_hat ):\n",
    " \n",
    "    # Show Confusion Matrix Heatmap\n",
    "    cf_matrix_test = confusion_matrix(y_test , y_hat)\n",
    "        \n",
    "    group_names = [\"TN\",\"FP\",\"FN\",\"TP\"]\n",
    "    group_counts = [\"{}\".format(value) for value in cf_matrix_test.flatten()]\n",
    "    labels = [f\"{v1}\\n{v2}\" for v1, v2 in zip(group_names,group_counts)]\n",
    "    labels = np.asarray(labels).reshape(2,2)\n",
    "\n",
    "    sns.heatmap(cf_matrix_test, annot=labels, fmt='', cmap='Blues')\n",
    "    plt.show()"
   ]
  },
  {
   "cell_type": "code",
   "execution_count": 40,
   "metadata": {},
   "outputs": [],
   "source": [
    "#get tje results for each model prediction\n",
    "def model_results_pred( model , x_train , x_test , y_train , y_test ):\n",
    "    # Predic class labels\n",
    "    y_train_hat = model.predict(x_train)\n",
    "    y_test_hat = model.predict(x_test) \n",
    "    \n",
    "    f1_macro = f1_score(y_test, y_test_hat,average='macro')\n",
    "    \n",
    "    print('\\033[1m'+'Macro-F1 Score: ',f1_macro)\n",
    "    \n",
    "    # Plot Test Confusion Matrix\n",
    "    print(\"\\tTest Confusion Matrix\")\n",
    "    plot_confusion(y_test,y_test_hat)\n",
    "    \n",
    "    return f1_macro"
   ]
  },
  {
   "cell_type": "code",
   "execution_count": 41,
   "metadata": {},
   "outputs": [
    {
     "name": "stdout",
     "output_type": "stream",
     "text": [
      "\u001b[1mMacro-F1 Score:  0.49407114624505927\n",
      "\tTest Confusion Matrix\n"
     ]
    },
    {
     "data": {
      "image/png": "[encoded data removed]"
     },
     "metadata": {
      "image/png": {}
     },
     "output_type": "display_data"
    }
   ],
   "source": [
    "dummy_model = DummyClassifier(strategy='constant',constant=0)\n",
    "dummy_model.fit(X_train,Y_train)\n",
    "\n",
    "F1_Base = model_results_pred( dummy_model , X_train , x_test , Y_train , y_test )"
   ]
  },
  {
   "cell_type": "code",
   "execution_count": 42,
   "metadata": {},
   "outputs": [
    {
     "name": "stdout",
     "output_type": "stream",
     "text": [
      "Fitting 10 folds for each of 25 candidates, totalling 250 fits\n",
      " Best Parameters: {'C': 0.8276298878168667, 'tol': 0.08347429423078671} with score of: 0.9471054105401702\n"
     ]
    }
   ],
   "source": [
    "# Defining the different parameters for tuning\n",
    "params = {'C': np.random.uniform(0.001,1,5), 'tol':np.random.uniform(0.0001,0.1,5) }\n",
    "\n",
    "# Obtain best hyperparameters\n",
    "best_params_log , best_score_log = tuning(X_train_scale,\n",
    "                                          Y_train,\n",
    "                                          LogisticRegression(n_jobs=-1,random_state=42),\n",
    "                                          params,\n",
    "                                          cv=10,\n",
    "                                          verbose=2)\n",
    "\n",
    "\n",
    "print(\" Best Parameters:\",best_params_log,\"with score of:\",best_score_log)"
   ]
  },
  {
   "cell_type": "code",
   "execution_count": 42,
   "metadata": {},
   "outputs": [],
   "source": []
  },
  {
   "cell_type": "code",
   "execution_count": 43,
   "metadata": {},
   "outputs": [
    {
     "name": "stdout",
     "output_type": "stream",
     "text": [
      "\u001b[1mMacro-F1 Score:  0.8086883927302069\n",
      "\tTest Confusion Matrix\n"
     ]
    },
    {
     "data": {
      "image/png": "[encoded data removed]"
     },
     "metadata": {
      "image/png": {}
     },
     "output_type": "display_data"
    }
   ],
   "source": [
    "#passing the LR with C vaulues from params define above\n",
    "LR_model = LogisticRegression(C= best_params_log['C'],\n",
    "                              tol= best_params_log['tol'],\n",
    "                              n_jobs=-1, \n",
    "                              random_state=42)\n",
    "\n",
    "LR_model.fit(X_train_scale,Y_train)\n",
    "\n",
    "F1_LR = model_results_pred( LR_model , X_train_scale , X_test_scale , Y_train , y_test)"
   ]
  },
  {
   "cell_type": "code",
   "execution_count": 44,
   "metadata": {},
   "outputs": [
    {
     "name": "stdout",
     "output_type": "stream",
     "text": [
      "Fitting 10 folds for each of 18 candidates, totalling 180 fits\n",
      " Best Parameters: {'alpha': 0.0039149613523597245, 'penalty': 'l2'} with score of: 0.9305835895354072\n"
     ]
    }
   ],
   "source": [
    "# Defining the different parameters for tuning\n",
    "params = {'penalty': ['l1','l2'], 'alpha':np.random.uniform(0.0001,0.1,9) }\n",
    "\n",
    "# Obtain best hyperparameters\n",
    "best_params_sgd , best_score_sgd = tuning(X_train_scale,\n",
    "                                          Y_train,\n",
    "                                          SGDClassifier(n_jobs=-1,random_state=0),\n",
    "                                          params,\n",
    "                                          cv=10,\n",
    "                                          verbose=1)\n",
    "\n",
    "print(\" Best Parameters:\",best_params_sgd,\"with score of:\",best_score_sgd)"
   ]
  },
  {
   "cell_type": "code",
   "execution_count": 45,
   "metadata": {},
   "outputs": [
    {
     "name": "stdout",
     "output_type": "stream",
     "text": [
      "\u001b[1mMacro-F1 Score:  0.7608339553600219\n",
      "\tTest Confusion Matrix\n"
     ]
    },
    {
     "data": {
      "image/png": "[encoded data removed]"
     },
     "metadata": {
      "image/png": {}
     },
     "output_type": "display_data"
    }
   ],
   "source": [
    "#passing the SGD Classifer with C vaulues from params define above\n",
    "SVM_model = SGDClassifier(penalty= best_params_sgd['penalty'],\n",
    "                          alpha= best_params_sgd['alpha'],\n",
    "                          n_jobs= -1,\n",
    "                          random_state= 0)\n",
    "\n",
    "SVM_model.fit(X_train_scale,Y_train)\n",
    "\n",
    "F1_SVM = model_results_pred( SVM_model , X_train_scale , X_test_scale , Y_train , y_test )"
   ]
  },
  {
   "cell_type": "code",
   "execution_count": 48,
   "metadata": {},
   "outputs": [
    {
     "name": "stdout",
     "output_type": "stream",
     "text": [
      "Fitting 11 folds for each of 5 candidates, totalling 55 fits\n",
      " Best Parameters: {'max_depth': 24} with score of: 0.9869958200679855\n"
     ]
    }
   ],
   "source": [
    "# Defining the different parameters for tuning\n",
    "params = {'max_depth': np.random.randint(10,25,5)}\n",
    "\n",
    "# Obtain best hyperparameters\n",
    "best_params_dt , best_score_dt = tuning(X_train,\n",
    "                                        Y_train,\n",
    "                                        DecisionTreeClassifier(),\n",
    "                                        params,\n",
    "                                        cv=11)\n",
    "\n",
    "\n",
    "print(\" Best Parameters:\",best_params_dt,\"with score of:\",best_score_dt)"
   ]
  },
  {
   "cell_type": "code",
   "execution_count": 49,
   "metadata": {},
   "outputs": [
    {
     "name": "stdout",
     "output_type": "stream",
     "text": [
      "\u001b[1mMacro-F1 Score:  0.7895837010427373\n",
      "\tTest Confusion Matrix\n"
     ]
    },
    {
     "data": {
      "image/png": "[encoded data removed]"
     },
     "metadata": {
      "image/png": {}
     },
     "output_type": "display_data"
    }
   ],
   "source": [
    "#passing the DTC with C vaulues from params define above\n",
    "DT_model = DecisionTreeClassifier(max_depth = best_params_dt['max_depth'])\n",
    "\n",
    "# Fit and predict, and obtain train and test scores\n",
    "DT_model.fit(X_train,Y_train)\n",
    "\n",
    "F1_DT = model_results_pred( DT_model ,  X_train , x_test , Y_train , y_test)"
   ]
  },
  {
   "cell_type": "code",
   "execution_count": 51,
   "metadata": {},
   "outputs": [
    {
     "name": "stdout",
     "output_type": "stream",
     "text": [
      "Fitting 4 folds for each of 6 candidates, totalling 24 fits\n",
      " Best Parameters: {'n_estimators': 800} with score of: 0.9940644357326008\n"
     ]
    }
   ],
   "source": [
    "#idenfiying the hyper params\n",
    "params = {'n_estimators':[ 400 , 600 , 650 , 700 , 750 , 800 ]}\n",
    "\n",
    "\n",
    "# Obtain best hyperparameters\n",
    "best_params_ab , best_score_ab = tuning(X_train,\n",
    "                                          Y_train,\n",
    "                                        AdaBoostClassifier(random_state=42),\n",
    "                                        params,\n",
    "                                        cv=4)\n",
    "\n",
    "\n",
    "print(\" Best Parameters:\",best_params_ab,\"with score of:\",best_score_ab)"
   ]
  },
  {
   "cell_type": "code",
   "execution_count": 0,
   "metadata": {},
   "outputs": [],
   "source": []
  },
  {
   "cell_type": "code",
   "execution_count": 52,
   "metadata": {},
   "outputs": [
    {
     "name": "stdout",
     "output_type": "stream",
     "text": [
      "\u001b[1mMacro-F1 Score:  0.8420229871104269\n",
      "\tTest Confusion Matrix\n"
     ]
    },
    {
     "data": {
      "image/png": "[encoded data removed]"
     },
     "metadata": {
      "image/png": {}
     },
     "output_type": "display_data"
    }
   ],
   "source": [
    "\n",
    "# #passing the AdaBoost with C vaulues from params define above\n",
    "AB_model = AdaBoostClassifier(random_state=42,\n",
    "                              n_estimators = best_params_ab['n_estimators']) \n",
    "\n",
    "\n",
    "# Fit and predict, and obtain train and test scores\n",
    "AB_model.fit(X_train , Y_train)\n",
    "# Fit and predict, and obtain train and test scores\n",
    "F1_AB = model_results_pred(AB_model , X_train , x_test , Y_train , y_test)"
   ]
  },
  {
   "cell_type": "code",
   "execution_count": 0,
   "metadata": {},
   "outputs": [],
   "source": []
  },
  {
   "cell_type": "code",
   "execution_count": 0,
   "metadata": {},
   "outputs": [],
   "source": []
  },
  {
   "cell_type": "code",
   "execution_count": 0,
   "metadata": {},
   "outputs": [],
   "source": []
  },
  {
   "cell_type": "code",
   "execution_count": 0,
   "metadata": {},
   "outputs": [],
   "source": []
  },
  {
   "cell_type": "code",
   "execution_count": 0,
   "metadata": {},
   "outputs": [],
   "source": []
  },
  {
   "cell_type": "code",
   "execution_count": 0,
   "metadata": {},
   "outputs": [],
   "source": []
  },
  {
   "cell_type": "code",
   "execution_count": 0,
   "metadata": {},
   "outputs": [],
   "source": []
  },
  {
   "cell_type": "code",
   "execution_count": 0,
   "metadata": {},
   "outputs": [],
   "source": []
  },
  {
   "cell_type": "code",
   "execution_count": 0,
   "metadata": {},
   "outputs": [],
   "source": []
  },
  {
   "cell_type": "code",
   "execution_count": 0,
   "metadata": {},
   "outputs": [],
   "source": []
  },
  {
   "cell_type": "code",
   "execution_count": 0,
   "metadata": {},
   "outputs": [],
   "source": []
  },
  {
   "cell_type": "code",
   "execution_count": 0,
   "metadata": {},
   "outputs": [],
   "source": []
  },
  {
   "cell_type": "code",
   "execution_count": 0,
   "metadata": {},
   "outputs": [],
   "source": []
  },
  {
   "cell_type": "code",
   "execution_count": 0,
   "metadata": {},
   "outputs": [],
   "source": []
  }
 ],
 "metadata": {
  "kernelspec": {
   "display_name": "Python 3",
   "language": "python",
   "name": "python3"
  },
  "language_info": {
   "codemirror_mode": {
    "name": "ipython",
    "version": 3
   },
   "file_extension": ".py",
   "mimetype": "text/x-python",
   "name": "python",
   "nbconvert_exporter": "python",
   "pygments_lexer": "ipython3",
   "version": "3.6.0"
  }
 },
 "nbformat": 4,
 "nbformat_minor": 1
}
