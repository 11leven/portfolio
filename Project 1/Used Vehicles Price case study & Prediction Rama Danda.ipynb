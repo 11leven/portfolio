{
 "cells": [
  {
   "cell_type": "code",
   "execution_count": 1,
   "metadata": {},
   "outputs": [],
   "source": [
    "import numpy as np #import numpy\n",
    "import pandas as pd #import pandas\n",
    "import matplotlib.pyplot as plt #import matplotlib\n",
    "\n",
    "%matplotlib inline \n",
    "from yellowbrick.features import Rank2D #A two-dimensional ranking of features\n",
    "from yellowbrick.style import set_palette #Color palettes are discrete color lists\n",
    "from yellowbrick.features import ParallelCoordinates  #vertical axis color visualization\n",
    "import seaborn as sns #import seaborn for visualization\n",
    "from sklearn.preprocessing import StandardScaler #importing stanadard scalar\n",
    "from sklearn.ensemble import RandomForestRegressor #random forest regression\n",
    "from sklearn.model_selection import train_test_split #split the data in to train and test\n",
    "from sklearn.metrics import mean_absolute_error as mae #mean absolute\n",
    "from sklearn.decomposition import PCA\n",
    "from sklearn.linear_model import Lasso\n",
    "from sklearn.linear_model import LinearRegression\n",
    "import math \n",
    "from sklearn.linear_model import Ridge\n"
   ]
  },
  {
   "cell_type": "code",
   "execution_count": null,
   "metadata": {},
   "outputs": [],
   "source": []
  },
  {
   "cell_type": "code",
   "execution_count": 2,
   "metadata": {},
   "outputs": [],
   "source": [
    "#location of data file\n",
    "floc=r'C:\\Users\\rdanda\\OneDrive - Microsoft\\Documents\\Bellevue\\DSC 550 Mining Data\\week-6\\vehiclessmall10801.csv'"
   ]
  },
  {
   "cell_type": "code",
   "execution_count": 3,
   "metadata": {},
   "outputs": [],
   "source": [
    "df=pd.read_csv(floc)"
   ]
  },
  {
   "cell_type": "code",
   "execution_count": 4,
   "metadata": {},
   "outputs": [],
   "source": [
    "#df.head()"
   ]
  },
  {
   "cell_type": "code",
   "execution_count": 5,
   "metadata": {},
   "outputs": [],
   "source": [
    "removecolumns =['url', 'region_url', 'title_status', 'vin', 'county','size', 'image_url', 'lat','long']\n",
    "df = df.drop(columns = removecolumns)"
   ]
  },
  {
   "cell_type": "code",
   "execution_count": 6,
   "metadata": {},
   "outputs": [],
   "source": [
    "#df.head()"
   ]
  },
  {
   "cell_type": "code",
   "execution_count": 7,
   "metadata": {},
   "outputs": [],
   "source": [
    "df = df.dropna()\n",
    "#df.head(5)"
   ]
  },
  {
   "cell_type": "code",
   "execution_count": 8,
   "metadata": {},
   "outputs": [
    {
     "name": "stdout",
     "output_type": "stream",
     "text": [
      "<class 'pandas.core.frame.DataFrame'>\n",
      "Int64Index: 2346 entries, 4 to 9932\n",
      "Data columns (total 16 columns):\n",
      "id              2346 non-null object\n",
      "region          2346 non-null object\n",
      "price           2346 non-null int64\n",
      "year            2346 non-null object\n",
      "manufacturer    2346 non-null object\n",
      "model           2346 non-null object\n",
      "condition       2346 non-null object\n",
      "cylinders       2346 non-null object\n",
      "fuel            2346 non-null object\n",
      "odometer        2346 non-null object\n",
      "transmission    2346 non-null object\n",
      "drive           2346 non-null object\n",
      "type            2346 non-null object\n",
      "paint_color     2346 non-null object\n",
      "description     2346 non-null object\n",
      "state           2346 non-null object\n",
      "dtypes: int64(1), object(15)\n",
      "memory usage: 311.6+ KB\n"
     ]
    }
   ],
   "source": [
    "df.info()"
   ]
  },
  {
   "cell_type": "code",
   "execution_count": 9,
   "metadata": {},
   "outputs": [],
   "source": [
    "df[\"year\"] = pd.to_numeric(df[\"year\"])\n",
    "df[\"odometer\"] = pd.to_numeric(df[\"odometer\"])\n",
    "df[\"price\"] = pd.to_numeric(df[\"price\"])\n",
    "        "
   ]
  },
  {
   "cell_type": "code",
   "execution_count": 10,
   "metadata": {},
   "outputs": [
    {
     "data": {
      "text/html": [
       "<div>\n",
       "<style scoped>\n",
       "    .dataframe tbody tr th:only-of-type {\n",
       "        vertical-align: middle;\n",
       "    }\n",
       "\n",
       "    .dataframe tbody tr th {\n",
       "        vertical-align: top;\n",
       "    }\n",
       "\n",
       "    .dataframe thead th {\n",
       "        text-align: right;\n",
       "    }\n",
       "</style>\n",
       "<table border=\"1\" class=\"dataframe\">\n",
       "  <thead>\n",
       "    <tr style=\"text-align: right;\">\n",
       "      <th></th>\n",
       "      <th>id</th>\n",
       "      <th>region</th>\n",
       "      <th>manufacturer</th>\n",
       "      <th>model</th>\n",
       "      <th>condition</th>\n",
       "      <th>cylinders</th>\n",
       "      <th>fuel</th>\n",
       "      <th>transmission</th>\n",
       "      <th>drive</th>\n",
       "      <th>type</th>\n",
       "      <th>paint_color</th>\n",
       "      <th>description</th>\n",
       "      <th>state</th>\n",
       "    </tr>\n",
       "  </thead>\n",
       "  <tbody>\n",
       "    <tr>\n",
       "      <td>count</td>\n",
       "      <td>2346</td>\n",
       "      <td>2346</td>\n",
       "      <td>2346</td>\n",
       "      <td>2346</td>\n",
       "      <td>2346</td>\n",
       "      <td>2346</td>\n",
       "      <td>2346</td>\n",
       "      <td>2346</td>\n",
       "      <td>2346</td>\n",
       "      <td>2346</td>\n",
       "      <td>2346</td>\n",
       "      <td>2346</td>\n",
       "      <td>2346</td>\n",
       "    </tr>\n",
       "    <tr>\n",
       "      <td>unique</td>\n",
       "      <td>2346</td>\n",
       "      <td>49</td>\n",
       "      <td>35</td>\n",
       "      <td>1115</td>\n",
       "      <td>6</td>\n",
       "      <td>8</td>\n",
       "      <td>5</td>\n",
       "      <td>3</td>\n",
       "      <td>3</td>\n",
       "      <td>13</td>\n",
       "      <td>12</td>\n",
       "      <td>2253</td>\n",
       "      <td>14</td>\n",
       "    </tr>\n",
       "    <tr>\n",
       "      <td>top</td>\n",
       "      <td>7190065969</td>\n",
       "      <td>orlando</td>\n",
       "      <td>chevrolet</td>\n",
       "      <td>silverado 1500</td>\n",
       "      <td>excellent</td>\n",
       "      <td>4 cylinders</td>\n",
       "      <td>gas</td>\n",
       "      <td>automatic</td>\n",
       "      <td>fwd</td>\n",
       "      <td>sedan</td>\n",
       "      <td>white</td>\n",
       "      <td>2015 Chevrolet Silverado 1500 Crew Cab 4x4 LIF...</td>\n",
       "      <td>fl</td>\n",
       "    </tr>\n",
       "    <tr>\n",
       "      <td>freq</td>\n",
       "      <td>1</td>\n",
       "      <td>273</td>\n",
       "      <td>368</td>\n",
       "      <td>39</td>\n",
       "      <td>1162</td>\n",
       "      <td>867</td>\n",
       "      <td>2176</td>\n",
       "      <td>2090</td>\n",
       "      <td>992</td>\n",
       "      <td>701</td>\n",
       "      <td>551</td>\n",
       "      <td>6</td>\n",
       "      <td>837</td>\n",
       "    </tr>\n",
       "  </tbody>\n",
       "</table>\n",
       "</div>"
      ],
      "text/plain": [
       "                id   region manufacturer           model  condition  \\\n",
       "count         2346     2346         2346            2346       2346   \n",
       "unique        2346       49           35            1115          6   \n",
       "top     7190065969  orlando    chevrolet  silverado 1500  excellent   \n",
       "freq             1      273          368              39       1162   \n",
       "\n",
       "          cylinders  fuel transmission drive   type paint_color  \\\n",
       "count          2346  2346         2346  2346   2346        2346   \n",
       "unique            8     5            3     3     13          12   \n",
       "top     4 cylinders   gas    automatic   fwd  sedan       white   \n",
       "freq            867  2176         2090   992    701         551   \n",
       "\n",
       "                                              description state  \n",
       "count                                                2346  2346  \n",
       "unique                                               2253    14  \n",
       "top     2015 Chevrolet Silverado 1500 Crew Cab 4x4 LIF...    fl  \n",
       "freq                                                    6   837  "
      ]
     },
     "execution_count": 10,
     "metadata": {},
     "output_type": "execute_result"
    }
   ],
   "source": [
    "df.describe(include=['O'])"
   ]
  },
  {
   "cell_type": "code",
   "execution_count": 11,
   "metadata": {
    "scrolled": true
   },
   "outputs": [
    {
     "data": {
      "image/png": "[encoded data removed]",
      "text/plain": [
       "<Figure size 1440x1440 with 5 Axes>"
      ]
     },
     "metadata": {
      "needs_background": "light"
     },
     "output_type": "display_data"
    }
   ],
   "source": [
    "#histogram\n",
    "plt.rcParams['figure.figsize'] = (20, 20) #setting the figure size 20 by 20\n",
    "fig, axes = plt.subplots(nrows = 5, ncols = 1) #Subplotting with 4 rows by 1 columns\n",
    "num_features = ['price', 'year', 'drive','fuel','odometer'] #Getting the features 'price', 'year', 'odometer' in to list\n",
    "xaxes = num_features #assingining the number features to x axis\n",
    "yaxes = ['Counts', 'Counts', 'Counts','Counts','Counts'] #assinging the counts as y axis for all 4 plots\n",
    "\n",
    "# draw histograms\n",
    "axes = axes.ravel() #getting the flattern axes to value \n",
    "for idx, ax in enumerate(axes):# Enumerate the values of axes\n",
    "    ax.hist(df[num_features[idx]].dropna(),bins='auto',density =True) #create histogram with xaxis and bins 20\n",
    "    ax.set_xlabel(xaxes[idx], fontsize=20) #set xlable with the same value of histogram x values\n",
    "    ax.set_ylabel(yaxes[idx], fontsize=20) #set ylables as counts for 0-4 index's with size 20\n",
    "    ax.tick_params(axis='both', labelsize=9) #set the appearance of ticks to both and size 7 \n",
    "    plt.xticks(rotation='vertical')\n",
    "\n",
    "plt.show() #showin the plots(all 4)"
   ]
  },
  {
   "cell_type": "markdown",
   "metadata": {},
   "source": [
    "### we have more vehicles for years in 2010 to 2015, mostly skwed towords the last 20years\n",
    "### mostly front wheel drive follwoed by 4w drive and r wheel drive\n",
    "### most vehicles are powered by gas followed by disesl in the distanct low"
   ]
  },
  {
   "cell_type": "code",
   "execution_count": 12,
   "metadata": {},
   "outputs": [
    {
     "data": {
      "text/plain": [
       "array(['good', 'fair', 'excellent', 'like new', 'salvage', 'new'],\n",
       "      dtype=object)"
      ]
     },
     "execution_count": 12,
     "metadata": {},
     "output_type": "execute_result"
    }
   ],
   "source": [
    "df['condition'].unique() #finding unique values"
   ]
  },
  {
   "cell_type": "code",
   "execution_count": 13,
   "metadata": {},
   "outputs": [
    {
     "data": {
      "text/plain": [
       "array(['4wd', 'fwd', 'rwd'], dtype=object)"
      ]
     },
     "execution_count": 13,
     "metadata": {},
     "output_type": "execute_result"
    }
   ],
   "source": [
    "df.drive.unique()#finding unique values"
   ]
  },
  {
   "cell_type": "code",
   "execution_count": 14,
   "metadata": {},
   "outputs": [
    {
     "data": {
      "text/plain": [
       "array(['8 cylinders', '6 cylinders', '4 cylinders', '5 cylinders',\n",
       "       '10 cylinders', 'other', '3 cylinders', '12 cylinders'],\n",
       "      dtype=object)"
      ]
     },
     "execution_count": 14,
     "metadata": {},
     "output_type": "execute_result"
    }
   ],
   "source": [
    "df.cylinders.unique()#finding unique values"
   ]
  },
  {
   "cell_type": "code",
   "execution_count": 15,
   "metadata": {},
   "outputs": [
    {
     "data": {
      "text/plain": [
       "array(['white', 'grey', 'custom', 'silver', 'blue', 'brown', 'purple',\n",
       "       'red', 'black', 'green', 'orange', 'yellow'], dtype=object)"
      ]
     },
     "execution_count": 15,
     "metadata": {},
     "output_type": "execute_result"
    }
   ],
   "source": [
    "df.paint_color.unique()#finding unique values"
   ]
  },
  {
   "cell_type": "code",
   "execution_count": 16,
   "metadata": {},
   "outputs": [
    {
     "data": {
      "image/png": "[encoded data removed]",
      "text/plain": [
       "<Figure size 1440x720 with 4 Axes>"
      ]
     },
     "metadata": {
      "needs_background": "light"
     },
     "output_type": "display_data"
    }
   ],
   "source": [
    "plt.rcParams['figure.figsize'] = (20, 10) #set figure size to 20 by 10\n",
    "fig, axes = plt.subplots(nrows = 2, ncols = 2)#subplots with 2 by 2\n",
    "#groupedby for condition values in x and y for counts\n",
    "X_condition = df.groupby('condition').size().reset_index(name='Counts')['condition']\n",
    "Y_condition = df.groupby('condition').size().reset_index(name='Counts')['Counts']\n",
    "# make the bar plot\n",
    "axes[0, 0].bar(X_condition, Y_condition) #bar graph at 0,0 axes for condition values yes and no\n",
    "axes[0, 0].set_title('Condition', fontsize=25) #title set as condition\n",
    "axes[0, 0].set_ylabel('Counts', fontsize=20) #Ylabel as 'count'\n",
    "axes[0, 0].tick_params(axis='both', labelsize=15) ##set the appearance of ticks to both and size 15 \n",
    "\n",
    "#groupedby for transmission values in x and y for counts\n",
    "X_transmission = df.groupby('transmission').size().reset_index(name='Counts')['transmission']\n",
    "Y_transmission = df.groupby('transmission').size().reset_index(name='Counts')['Counts']\n",
    "# make the bar plot\n",
    "axes[0, 1].bar(X_transmission, Y_transmission) #bar graph at 0,0 axes for condition values yes and no\n",
    "axes[0, 1].set_title('transmission', fontsize=25) #title set as transmission\n",
    "axes[0, 1].set_ylabel('Counts', fontsize=20) #Ylabel as 'count'\n",
    "axes[0, 1].tick_params(axis='both', labelsize=15) ##set the appearance of ticks to both and size 15 \n",
    "\n",
    "\n",
    "#replace condition values with of 1 to yes and 0 to no grouped by servived values in x and y for counts\n",
    "X_cylinders = df.replace({'cylinders': {'8 cylinders':8,'6 cylinders':6,'4 cylinders':4,'5 cylinders':5,\n",
    "       '10 cylinders':10, 'other':1,'3 cylinders':3, '12 cylinders':12}}).groupby('cylinders').size().reset_index(name='Counts')['cylinders']\n",
    "Y_cylinders = df.replace({'cylinders': {'8 cylinders':8,'6 cylinders':6,'4 cylinders':4,'5 cylinders':5,\n",
    "       '10 cylinders':10, 'other':1,'3 cylinders':3, '12 cylinders':12}}).groupby('cylinders').size().reset_index(name='Counts')['Counts']\n",
    "# make the bar plot\n",
    "axes[1, 0].bar(X_cylinders, Y_cylinders) #bar graph at 0,0 axes for condition values yes and no\n",
    "axes[1, 0].set_title('Cylinders', fontsize=25) #title set as condition\n",
    "axes[1, 0].set_ylabel('Counts', fontsize=20) #Ylabel as 'count'\n",
    "axes[1, 0].tick_params(axis='both', labelsize=15) ##set the appearance of ticks to both and size 15 \n",
    "\n",
    "X_manufacturer = df.groupby('manufacturer').size().reset_index(name='Counts')['manufacturer']\n",
    "Y_manufacturer = df.groupby('manufacturer').size().reset_index(name='Counts')['Counts']\n",
    "# make the bar plot\n",
    "axes[1, 1].bar(X_manufacturer, Y_manufacturer) #bar graph at 0,0 axes for condition values yes and no\n",
    "axes[1, 1].set_title('Manufacturer', fontsize=25) #title set as condition\n",
    "axes[1, 1].set_ylabel('Counts', fontsize=20) #Ylabel as 'count'\n",
    "axes[1, 1].tick_params(axis='both', labelsize=15,rotation=90) ##set the appearance of ticks to both and size 15 \n"
   ]
  },
  {
   "cell_type": "markdown",
   "metadata": {},
   "source": [
    "### It appears there are more excelent and good values vehicles\n",
    "### Cehvy & Ford vehicles are sold high in used vehicles\n"
   ]
  },
  {
   "cell_type": "code",
   "execution_count": 17,
   "metadata": {},
   "outputs": [],
   "source": [
    "#set up the figure size\n",
    "plt.rcParams['figure.figsize'] = (9, 9)"
   ]
  },
  {
   "cell_type": "code",
   "execution_count": 18,
   "metadata": {},
   "outputs": [],
   "source": [
    "num_features1 = ['price', 'year', 'odometer'] #features for correlation analysis"
   ]
  },
  {
   "cell_type": "code",
   "execution_count": 19,
   "metadata": {},
   "outputs": [],
   "source": [
    "X = df[num_features1].to_numpy()"
   ]
  },
  {
   "cell_type": "code",
   "execution_count": 20,
   "metadata": {},
   "outputs": [],
   "source": [
    "#X"
   ]
  },
  {
   "cell_type": "code",
   "execution_count": 21,
   "metadata": {},
   "outputs": [
    {
     "data": {
      "image/png": "[encoded data removed]",
      "text/plain": [
       "<Figure size 648x648 with 2 Axes>"
      ]
     },
     "metadata": {
      "needs_background": "light"
     },
     "output_type": "display_data"
    }
   ],
   "source": [
    "# instantiate the visualizer with the Covariance ranking algorithm using Pearson\n",
    "visualizer = Rank2D(features=num_features1, algorithm='pearson')\n",
    "visualizer.fit(X)                # Fit the data to the visualizer\n",
    "visualizer.transform(X)             # Transform the data\n",
    "visualizer.poof(outpath=r'C:\\Users\\rdanda\\OneDrive - Microsoft\\Documents\\Bellevue\\DSC 550 Mining Data\\week-6\\pcoordsato.png') # Draw/show/poof the data\n",
    "plt.show()"
   ]
  },
  {
   "cell_type": "markdown",
   "metadata": {},
   "source": [
    "### Negative corrlation btw year and odometer (understandaby  high millage for older years)\n",
    "### Positive correlation btw price and year"
   ]
  },
  {
   "cell_type": "code",
   "execution_count": 22,
   "metadata": {},
   "outputs": [],
   "source": [
    "df.paint_color = pd.Categorical(df.paint_color) #converting color to categorical"
   ]
  },
  {
   "cell_type": "code",
   "execution_count": 23,
   "metadata": {},
   "outputs": [],
   "source": [
    "df['color_code'] = df.paint_color.cat.codes #create color code instead of text"
   ]
  },
  {
   "cell_type": "code",
   "execution_count": 24,
   "metadata": {},
   "outputs": [],
   "source": [
    "#df.head()"
   ]
  },
  {
   "cell_type": "code",
   "execution_count": 25,
   "metadata": {},
   "outputs": [
    {
     "data": {
      "text/plain": [
       "<matplotlib.legend.Legend at 0x1673d338e48>"
      ]
     },
     "execution_count": 25,
     "metadata": {},
     "output_type": "execute_result"
    },
    {
     "data": {
      "image/png": "[encoded data removed]",
      "text/plain": [
       "<Figure size 1440x720 with 1 Axes>"
      ]
     },
     "metadata": {
      "needs_background": "light"
     },
     "output_type": "display_data"
    }
   ],
   "source": [
    "# stacked bar charts to compare Excelent and Good condition vehicles by color \n",
    "#set up the figure size\n",
    "\n",
    "plt.rcParams['figure.figsize'] = (20, 10)\n",
    "\n",
    "# make subplots (just one here)\n",
    "fig, axes = plt.subplots(nrows =1, ncols =1)\n",
    "#get the counts of excelt and good condition vehicles\n",
    "condition_excellent = df[df['condition']=='excellent']['paint_color'].value_counts()\n",
    "condition_good = df[df['condition']=='good']['paint_color'].value_counts()\n",
    "condition_good = condition_excellent.reindex(index = condition_good.index) #reindex with  good condition values\n",
    "# make the bar plot\n",
    "p1 = axes.bar(condition_excellent.index, condition_excellent.values) #create bar graph with excelent values\n",
    "p2 = axes.bar(condition_good.index, condition_good.values, bottom=condition_good.values) #create bar graph with good by having excelent at the bottom of the stacked chart\n",
    "axes.set_title('Condition By Color', fontsize=25) #title at 0,0 axis\n",
    "axes.set_ylabel('Counts', fontsize=20)#ylable count\n",
    "axes.tick_params(axis='both', labelsize=15,rotation=90) #ticks on both axis with size 15\n",
    "axes.legend((p1[0], p2[0]), ('Excelent', 'good'), fontsize = 15) #legend on Ecxcelent and good\n",
    "\n"
   ]
  },
  {
   "cell_type": "markdown",
   "metadata": {},
   "source": [
    "### White & black colors are dominant in excelent and good vehicle conditions followed by silver"
   ]
  },
  {
   "cell_type": "code",
   "execution_count": 26,
   "metadata": {},
   "outputs": [
    {
     "data": {
      "text/plain": [
       "<matplotlib.legend.Legend at 0x1673d3e9108>"
      ]
     },
     "execution_count": 26,
     "metadata": {},
     "output_type": "execute_result"
    },
    {
     "data": {
      "image/png": "[encoded data removed]",
      "text/plain": [
       "<Figure size 1440x720 with 1 Axes>"
      ]
     },
     "metadata": {
      "needs_background": "light"
     },
     "output_type": "display_data"
    }
   ],
   "source": [
    "plt.rcParams['figure.figsize'] = (20, 10)\n",
    "\n",
    "# make subplots (just one here)\n",
    "fig, axes = plt.subplots(nrows =1, ncols =1)\n",
    "#get the counts of excelt and good condition vehicles\n",
    "condition_excellent = df[df['condition']=='excellent']['region'].value_counts()\n",
    "condition_good = df[df['condition']=='good']['region'].value_counts()\n",
    "condition_good = condition_excellent.reindex(index = condition_good.index) #reindex with  good condition values\n",
    "# make the bar plot\n",
    "p1 = axes.bar(condition_excellent.index, condition_excellent.values) #create bar graph with excelent values\n",
    "p2 = axes.bar(condition_good.index, condition_good.values, bottom=condition_good.values) #create bar graph with good by having excelent at the bottom of the stacked chart\n",
    "axes.set_title('Condition By Region', fontsize=25) #title at 0,0 axis\n",
    "axes.set_ylabel('Counts', fontsize=20)#ylable count\n",
    "axes.tick_params(axis='both', labelsize=15,rotation=90) #ticks on both axis with size 15\n",
    "axes.legend((p1[0], p2[0]), ('Excelent', 'good'), fontsize = 15) #legend on Ecxcelent and good"
   ]
  },
  {
   "cell_type": "markdown",
   "metadata": {},
   "source": [
    "### Orlando washington DC has more excelent cars followed by reno/tahoe"
   ]
  },
  {
   "cell_type": "code",
   "execution_count": 27,
   "metadata": {},
   "outputs": [],
   "source": [
    "#Step 11- Fill in missing values and eliminate feature"
   ]
  },
  {
   "cell_type": "code",
   "execution_count": 28,
   "metadata": {},
   "outputs": [],
   "source": [
    "#create a function that takes data frame column and replace missing values with median values\n",
    "def fill_na_median(df, inplace=True):\n",
    "    return df.fillna(df.median(), inplace=inplace) #return median values of the column beeing passed\n"
   ]
  },
  {
   "cell_type": "code",
   "execution_count": 29,
   "metadata": {},
   "outputs": [],
   "source": [
    "fill_na_median(df['odometer'])"
   ]
  },
  {
   "cell_type": "code",
   "execution_count": 30,
   "metadata": {},
   "outputs": [
    {
     "data": {
      "text/plain": [
       "count    2.346000e+03\n",
       "mean     1.175334e+05\n",
       "std      1.060330e+05\n",
       "min      0.000000e+00\n",
       "25%      6.800000e+04\n",
       "50%      1.091445e+05\n",
       "75%      1.530000e+05\n",
       "max      2.564237e+06\n",
       "Name: odometer, dtype: float64"
      ]
     },
     "execution_count": 30,
     "metadata": {},
     "output_type": "execute_result"
    }
   ],
   "source": [
    "df['odometer'].describe()"
   ]
  },
  {
   "cell_type": "code",
   "execution_count": 31,
   "metadata": {},
   "outputs": [],
   "source": [
    "def fill_na_most(df, inplace=True): #defing the function to replace missing with most occured value 'sedan'\n",
    "    return df.fillna('sedan', inplace=inplace)"
   ]
  },
  {
   "cell_type": "code",
   "execution_count": 32,
   "metadata": {},
   "outputs": [],
   "source": [
    "fill_na_most(df['type'])"
   ]
  },
  {
   "cell_type": "code",
   "execution_count": 33,
   "metadata": {},
   "outputs": [
    {
     "data": {
      "text/plain": [
       "count      2346\n",
       "unique       13\n",
       "top       sedan\n",
       "freq        701\n",
       "Name: type, dtype: object"
      ]
     },
     "execution_count": 33,
     "metadata": {},
     "output_type": "execute_result"
    }
   ],
   "source": [
    "df['type'].describe()"
   ]
  },
  {
   "cell_type": "code",
   "execution_count": 34,
   "metadata": {},
   "outputs": [],
   "source": [
    "# log-transformation\n",
    "def log_transformation(df): #define a function to return log1p(natural logarithmic value of x + 1) values for given df\n",
    "    return df.apply(np.log1p)"
   ]
  },
  {
   "cell_type": "code",
   "execution_count": 35,
   "metadata": {},
   "outputs": [],
   "source": [
    "df['price_log1p'] = log_transformation(df['price'])"
   ]
  },
  {
   "cell_type": "code",
   "execution_count": 36,
   "metadata": {},
   "outputs": [
    {
     "data": {
      "text/html": [
       "<div>\n",
       "<style scoped>\n",
       "    .dataframe tbody tr th:only-of-type {\n",
       "        vertical-align: middle;\n",
       "    }\n",
       "\n",
       "    .dataframe tbody tr th {\n",
       "        vertical-align: top;\n",
       "    }\n",
       "\n",
       "    .dataframe thead th {\n",
       "        text-align: right;\n",
       "    }\n",
       "</style>\n",
       "<table border=\"1\" class=\"dataframe\">\n",
       "  <thead>\n",
       "    <tr style=\"text-align: right;\">\n",
       "      <th></th>\n",
       "      <th>price</th>\n",
       "      <th>year</th>\n",
       "      <th>odometer</th>\n",
       "      <th>color_code</th>\n",
       "      <th>price_log1p</th>\n",
       "    </tr>\n",
       "  </thead>\n",
       "  <tbody>\n",
       "    <tr>\n",
       "      <td>count</td>\n",
       "      <td>2.346000e+03</td>\n",
       "      <td>2346.000000</td>\n",
       "      <td>2.346000e+03</td>\n",
       "      <td>2346.000000</td>\n",
       "      <td>2346.000000</td>\n",
       "    </tr>\n",
       "    <tr>\n",
       "      <td>mean</td>\n",
       "      <td>1.291825e+04</td>\n",
       "      <td>2009.134271</td>\n",
       "      <td>1.175334e+05</td>\n",
       "      <td>5.586530</td>\n",
       "      <td>8.888144</td>\n",
       "    </tr>\n",
       "    <tr>\n",
       "      <td>std</td>\n",
       "      <td>3.296848e+04</td>\n",
       "      <td>7.830200</td>\n",
       "      <td>1.060330e+05</td>\n",
       "      <td>4.008569</td>\n",
       "      <td>1.600784</td>\n",
       "    </tr>\n",
       "    <tr>\n",
       "      <td>min</td>\n",
       "      <td>0.000000e+00</td>\n",
       "      <td>1934.000000</td>\n",
       "      <td>0.000000e+00</td>\n",
       "      <td>0.000000</td>\n",
       "      <td>0.000000</td>\n",
       "    </tr>\n",
       "    <tr>\n",
       "      <td>25%</td>\n",
       "      <td>4.990000e+03</td>\n",
       "      <td>2006.000000</td>\n",
       "      <td>6.800000e+04</td>\n",
       "      <td>1.000000</td>\n",
       "      <td>8.515392</td>\n",
       "    </tr>\n",
       "    <tr>\n",
       "      <td>50%</td>\n",
       "      <td>8.950000e+03</td>\n",
       "      <td>2011.000000</td>\n",
       "      <td>1.091445e+05</td>\n",
       "      <td>6.000000</td>\n",
       "      <td>9.099521</td>\n",
       "    </tr>\n",
       "    <tr>\n",
       "      <td>75%</td>\n",
       "      <td>1.587500e+04</td>\n",
       "      <td>2014.000000</td>\n",
       "      <td>1.530000e+05</td>\n",
       "      <td>9.000000</td>\n",
       "      <td>9.672560</td>\n",
       "    </tr>\n",
       "    <tr>\n",
       "      <td>max</td>\n",
       "      <td>1.495000e+06</td>\n",
       "      <td>2020.000000</td>\n",
       "      <td>2.564237e+06</td>\n",
       "      <td>11.000000</td>\n",
       "      <td>14.217637</td>\n",
       "    </tr>\n",
       "  </tbody>\n",
       "</table>\n",
       "</div>"
      ],
      "text/plain": [
       "              price         year      odometer   color_code  price_log1p\n",
       "count  2.346000e+03  2346.000000  2.346000e+03  2346.000000  2346.000000\n",
       "mean   1.291825e+04  2009.134271  1.175334e+05     5.586530     8.888144\n",
       "std    3.296848e+04     7.830200  1.060330e+05     4.008569     1.600784\n",
       "min    0.000000e+00  1934.000000  0.000000e+00     0.000000     0.000000\n",
       "25%    4.990000e+03  2006.000000  6.800000e+04     1.000000     8.515392\n",
       "50%    8.950000e+03  2011.000000  1.091445e+05     6.000000     9.099521\n",
       "75%    1.587500e+04  2014.000000  1.530000e+05     9.000000     9.672560\n",
       "max    1.495000e+06  2020.000000  2.564237e+06    11.000000    14.217637"
      ]
     },
     "execution_count": 36,
     "metadata": {},
     "output_type": "execute_result"
    }
   ],
   "source": [
    "df.describe()"
   ]
  },
  {
   "cell_type": "code",
   "execution_count": 37,
   "metadata": {},
   "outputs": [
    {
     "data": {
      "image/png": "[encoded data removed]",
      "text/plain": [
       "<Figure size 720x360 with 1 Axes>"
      ]
     },
     "metadata": {
      "needs_background": "light"
     },
     "output_type": "display_data"
    }
   ],
   "source": [
    "#Step 12 - adjust skewed data (fare)\n",
    "plt.rcParams['figure.figsize'] = (10, 5) #set figure size to 10,5\n",
    "plt.hist(df['price_log1p'], bins=40) #check the distribution using histogram\n",
    "plt.xlabel('Price_log1p', fontsize=20) #check xlabel with fontsize 20\n",
    "plt.ylabel('Counts', fontsize=20) #Y axis label \n",
    "plt.tick_params(axis='both', labelsize=15) #ticks on both axis and label size 15\n",
    "#plt.show()"
   ]
  },
  {
   "cell_type": "code",
   "execution_count": 38,
   "metadata": {},
   "outputs": [],
   "source": [
    "#df.head()"
   ]
  },
  {
   "cell_type": "code",
   "execution_count": 39,
   "metadata": {},
   "outputs": [],
   "source": [
    " df.type = pd.Categorical(df.type) #converting type to categorical"
   ]
  },
  {
   "cell_type": "code",
   "execution_count": 40,
   "metadata": {},
   "outputs": [],
   "source": [
    "df.region = pd.Categorical(df.region) #converting region to categorical"
   ]
  },
  {
   "cell_type": "code",
   "execution_count": 41,
   "metadata": {},
   "outputs": [],
   "source": [
    "df.manufacturer =pd.Categorical(df.manufacturer) #converting type to categorical"
   ]
  },
  {
   "cell_type": "code",
   "execution_count": 42,
   "metadata": {},
   "outputs": [],
   "source": [
    " df.model =pd.Categorical(df.model) #converting type to categorical"
   ]
  },
  {
   "cell_type": "code",
   "execution_count": 43,
   "metadata": {},
   "outputs": [],
   "source": [
    " df.condition =pd.Categorical(df.condition) #converting type to categorical"
   ]
  },
  {
   "cell_type": "code",
   "execution_count": 44,
   "metadata": {},
   "outputs": [],
   "source": [
    "  df.cylinders =pd.Categorical(df.cylinders) #converting type to categorical"
   ]
  },
  {
   "cell_type": "code",
   "execution_count": 45,
   "metadata": {},
   "outputs": [],
   "source": [
    "   df.fuel =pd.Categorical(df.fuel) #converting type to categorical"
   ]
  },
  {
   "cell_type": "code",
   "execution_count": 46,
   "metadata": {},
   "outputs": [],
   "source": [
    "    df.transmission =pd.Categorical(df.transmission) #converting type to categorical"
   ]
  },
  {
   "cell_type": "code",
   "execution_count": 47,
   "metadata": {},
   "outputs": [],
   "source": [
    " df.drive =pd.Categorical(df.drive) #converting type to categorical"
   ]
  },
  {
   "cell_type": "code",
   "execution_count": 48,
   "metadata": {},
   "outputs": [],
   "source": [
    "# converting catagorical values to numbers (type of vehicles)\n",
    "df['type_code'] = df.type.cat.codes"
   ]
  },
  {
   "cell_type": "code",
   "execution_count": 49,
   "metadata": {},
   "outputs": [],
   "source": [
    "#  converting catagorical values to numbers (region of vehicles)\n",
    "df['region_code'] = df.region.cat.codes"
   ]
  },
  {
   "cell_type": "code",
   "execution_count": 50,
   "metadata": {},
   "outputs": [],
   "source": [
    "#  converting catagorical values to numbers (manufacturer of vehicles)\n",
    "df['manufacturer_code'] = df.manufacturer.cat.codes"
   ]
  },
  {
   "cell_type": "code",
   "execution_count": 51,
   "metadata": {},
   "outputs": [],
   "source": [
    " #converting catagorical values to numbers (model of vehicles)\n",
    "df['model_code'] = df.model.cat.codes"
   ]
  },
  {
   "cell_type": "code",
   "execution_count": 52,
   "metadata": {},
   "outputs": [],
   "source": [
    " #converting catagorical values to numbers (condition of vehicles)\n",
    "df['condition_code'] = df.condition.cat.codes"
   ]
  },
  {
   "cell_type": "code",
   "execution_count": 53,
   "metadata": {},
   "outputs": [],
   "source": [
    " #converting catagorical values to numbers (cylinders of vehicles)\n",
    "df['cylinders_code'] = df.cylinders.cat.codes"
   ]
  },
  {
   "cell_type": "code",
   "execution_count": 54,
   "metadata": {},
   "outputs": [],
   "source": [
    " #converting catagorical values to numbers (fuel of vehicles)\n",
    "df['fuel_code'] = df.fuel.cat.codes"
   ]
  },
  {
   "cell_type": "code",
   "execution_count": 55,
   "metadata": {},
   "outputs": [],
   "source": [
    " #converting catagorical values to numbers (transmission of vehicles)\n",
    "df['transmission_code'] = df.transmission.cat.codes"
   ]
  },
  {
   "cell_type": "code",
   "execution_count": 56,
   "metadata": {},
   "outputs": [],
   "source": [
    " #converting catagorical values to numbers (drive of vehicles)\n",
    "df['drive_code'] = df.drive.cat.codes"
   ]
  },
  {
   "cell_type": "code",
   "execution_count": null,
   "metadata": {},
   "outputs": [],
   "source": []
  },
  {
   "cell_type": "code",
   "execution_count": 57,
   "metadata": {},
   "outputs": [],
   "source": [
    "#Columns with too many Null Values\n",
    "NotAvailable_val = df.isna().sum() #find all the columns with null values\n",
    "def natavailable_func(na, threshold = .4): #only select variables that passees the threshold\n",
    "    columns_passed = [] #define the empty list\n",
    "    for i in na.keys(): #loop through the columns\n",
    "        if na[i]/df.shape[0]<threshold: #if the shape is grater than 40% then append the values\n",
    "            columns_passed.append(i) #append the colunm to the list\n",
    "    return columns_passed #return the columns\n"
   ]
  },
  {
   "cell_type": "code",
   "execution_count": 58,
   "metadata": {},
   "outputs": [
    {
     "data": {
      "text/plain": [
       "Index(['id', 'region', 'price', 'year', 'manufacturer', 'model', 'condition',\n",
       "       'cylinders', 'fuel', 'odometer', 'transmission', 'drive', 'type',\n",
       "       'paint_color', 'description', 'state', 'color_code', 'price_log1p',\n",
       "       'type_code', 'region_code', 'manufacturer_code', 'model_code',\n",
       "       'condition_code', 'cylinders_code', 'fuel_code', 'transmission_code',\n",
       "       'drive_code'],\n",
       "      dtype='object')"
      ]
     },
     "execution_count": 58,
     "metadata": {},
     "output_type": "execute_result"
    }
   ],
   "source": [
    "#get the columns that are not having too many null values (>40%)\n",
    "df_clean = df[natavailable_func(NotAvailable_val)] \n",
    "df_clean.columns"
   ]
  },
  {
   "cell_type": "code",
   "execution_count": 59,
   "metadata": {},
   "outputs": [
    {
     "data": {
      "text/plain": [
       "<AxesSubplot:>"
      ]
     },
     "execution_count": 59,
     "metadata": {},
     "output_type": "execute_result"
    },
    {
     "data": {
      "image/png": "[encoded data removed]",
      "text/plain": [
       "<Figure size 720x360 with 1 Axes>"
      ]
     },
     "metadata": {
      "needs_background": "light"
     },
     "output_type": "display_data"
    }
   ],
   "source": [
    "#Identify outliner if any in the price\n",
    "df_clean = df_clean[df_clean['price'].between(999.99, 250000)] # calclulating Inter Quartile Range\n",
    "Q1 = df_clean['price'].quantile(0.25) #get 25%\n",
    "Q3 = df_clean['price'].quantile(0.75) #get 75%\n",
    "IQR = Q3 - Q1 #get the inter quartile by taking the differnece btw 3 and 1 quarters\n",
    "# get only Values between Q1-1.5IQR and Q3+1.5IQR\n",
    "df_filtered = df_clean.query('(@Q1 - 1.5 * @IQR) <= price <= (@Q3 + 1.5 * @IQR)')\n",
    "df_filtered.boxplot('price')  #showing using boxplot"
   ]
  },
  {
   "cell_type": "code",
   "execution_count": 60,
   "metadata": {},
   "outputs": [
    {
     "data": {
      "text/plain": [
       "<AxesSubplot:>"
      ]
     },
     "execution_count": 60,
     "metadata": {},
     "output_type": "execute_result"
    },
    {
     "data": {
      "image/png": "[encoded data removed]",
      "text/plain": [
       "<Figure size 720x360 with 1 Axes>"
      ]
     },
     "metadata": {
      "needs_background": "light"
     },
     "output_type": "display_data"
    }
   ],
   "source": [
    "#Identify outliner if any in the millage\n",
    "df_clean = df_clean[df_clean['odometer'].between(999.99, 250000)] # Computing IQR\n",
    "Q1 = df_clean['odometer'].quantile(0.25)\n",
    "Q3 = df_clean['odometer'].quantile(0.75)\n",
    "IQR = Q3 - Q1\n",
    "# Filtering Values between Q1-1.5IQR and Q3+1.5IQR\n",
    "df_filtered = df_clean.query('(@Q1 - 1.5 * @IQR) <= price <= (@Q3 + 1.5 * @IQR)')\n",
    "df_filtered.boxplot('odometer')"
   ]
  },
  {
   "cell_type": "code",
   "execution_count": 61,
   "metadata": {},
   "outputs": [
    {
     "data": {
      "text/plain": [
       "<AxesSubplot:>"
      ]
     },
     "execution_count": 61,
     "metadata": {},
     "output_type": "execute_result"
    },
    {
     "data": {
      "image/png": "[encoded data removed]",
      "text/plain": [
       "<Figure size 720x360 with 2 Axes>"
      ]
     },
     "metadata": {
      "needs_background": "light"
     },
     "output_type": "display_data"
    }
   ],
   "source": [
    "# calculate correlation matrix on the cleaned data\n",
    "corr = df_clean.corr()# plot the heatmap\n",
    "sns.heatmap(corr, xticklabels=corr.columns, yticklabels=corr.columns, annot=True, cmap=sns.diverging_palette(220, 50, as_cmap=True))"
   ]
  },
  {
   "cell_type": "code",
   "execution_count": 62,
   "metadata": {},
   "outputs": [
    {
     "data": {
      "text/plain": [
       "Index(['id', 'region', 'price', 'year', 'manufacturer', 'model', 'condition',\n",
       "       'cylinders', 'fuel', 'odometer', 'transmission', 'drive', 'type',\n",
       "       'paint_color', 'description', 'state', 'color_code', 'price_log1p',\n",
       "       'type_code', 'region_code', 'manufacturer_code', 'model_code',\n",
       "       'condition_code', 'cylinders_code', 'fuel_code', 'transmission_code',\n",
       "       'drive_code'],\n",
       "      dtype='object')"
      ]
     },
     "execution_count": 62,
     "metadata": {},
     "output_type": "execute_result"
    }
   ],
   "source": [
    "df_clean.columns"
   ]
  },
  {
   "cell_type": "code",
   "execution_count": 63,
   "metadata": {},
   "outputs": [],
   "source": [
    "removecolumns =['price_log1p','id','region', 'manufacturer', 'model', 'condition', 'cylinders','fuel', 'transmission', 'drive','type','paint_color', 'description', 'state']\n",
    "df_clean = df_clean.drop(columns = removecolumns)"
   ]
  },
  {
   "cell_type": "code",
   "execution_count": 64,
   "metadata": {},
   "outputs": [
    {
     "name": "stdout",
     "output_type": "stream",
     "text": [
      "Index(['price', 'year', 'odometer', 'color_code', 'type_code', 'region_code',\n",
      "       'manufacturer_code', 'model_code', 'condition_code', 'cylinders_code',\n",
      "       'fuel_code', 'transmission_code', 'drive_code'],\n",
      "      dtype='object')\n"
     ]
    },
    {
     "data": {
      "text/html": [
       "<div>\n",
       "<style scoped>\n",
       "    .dataframe tbody tr th:only-of-type {\n",
       "        vertical-align: middle;\n",
       "    }\n",
       "\n",
       "    .dataframe tbody tr th {\n",
       "        vertical-align: top;\n",
       "    }\n",
       "\n",
       "    .dataframe thead th {\n",
       "        text-align: right;\n",
       "    }\n",
       "</style>\n",
       "<table border=\"1\" class=\"dataframe\">\n",
       "  <thead>\n",
       "    <tr style=\"text-align: right;\">\n",
       "      <th></th>\n",
       "      <th>price</th>\n",
       "      <th>year</th>\n",
       "      <th>odometer</th>\n",
       "      <th>color_code</th>\n",
       "      <th>type_code</th>\n",
       "      <th>region_code</th>\n",
       "      <th>manufacturer_code</th>\n",
       "      <th>model_code</th>\n",
       "      <th>condition_code</th>\n",
       "      <th>cylinders_code</th>\n",
       "      <th>fuel_code</th>\n",
       "      <th>transmission_code</th>\n",
       "      <th>drive_code</th>\n",
       "    </tr>\n",
       "  </thead>\n",
       "  <tbody>\n",
       "    <tr>\n",
       "      <td>5</td>\n",
       "      <td>13995</td>\n",
       "      <td>2012</td>\n",
       "      <td>188406</td>\n",
       "      <td>5</td>\n",
       "      <td>10</td>\n",
       "      <td>8</td>\n",
       "      <td>10</td>\n",
       "      <td>401</td>\n",
       "      <td>2</td>\n",
       "      <td>5</td>\n",
       "      <td>2</td>\n",
       "      <td>0</td>\n",
       "      <td>0</td>\n",
       "    </tr>\n",
       "    <tr>\n",
       "      <td>6</td>\n",
       "      <td>7995</td>\n",
       "      <td>2010</td>\n",
       "      <td>108124</td>\n",
       "      <td>5</td>\n",
       "      <td>0</td>\n",
       "      <td>8</td>\n",
       "      <td>5</td>\n",
       "      <td>355</td>\n",
       "      <td>2</td>\n",
       "      <td>3</td>\n",
       "      <td>2</td>\n",
       "      <td>0</td>\n",
       "      <td>0</td>\n",
       "    </tr>\n",
       "    <tr>\n",
       "      <td>7</td>\n",
       "      <td>8995</td>\n",
       "      <td>2011</td>\n",
       "      <td>178054</td>\n",
       "      <td>10</td>\n",
       "      <td>0</td>\n",
       "      <td>8</td>\n",
       "      <td>5</td>\n",
       "      <td>1006</td>\n",
       "      <td>2</td>\n",
       "      <td>5</td>\n",
       "      <td>2</td>\n",
       "      <td>0</td>\n",
       "      <td>0</td>\n",
       "    </tr>\n",
       "    <tr>\n",
       "      <td>8</td>\n",
       "      <td>10995</td>\n",
       "      <td>2014</td>\n",
       "      <td>170259</td>\n",
       "      <td>10</td>\n",
       "      <td>0</td>\n",
       "      <td>8</td>\n",
       "      <td>10</td>\n",
       "      <td>387</td>\n",
       "      <td>2</td>\n",
       "      <td>5</td>\n",
       "      <td>2</td>\n",
       "      <td>0</td>\n",
       "      <td>0</td>\n",
       "    </tr>\n",
       "    <tr>\n",
       "      <td>10</td>\n",
       "      <td>10995</td>\n",
       "      <td>2011</td>\n",
       "      <td>210865</td>\n",
       "      <td>9</td>\n",
       "      <td>10</td>\n",
       "      <td>8</td>\n",
       "      <td>5</td>\n",
       "      <td>868</td>\n",
       "      <td>2</td>\n",
       "      <td>6</td>\n",
       "      <td>2</td>\n",
       "      <td>0</td>\n",
       "      <td>0</td>\n",
       "    </tr>\n",
       "    <tr>\n",
       "      <td>...</td>\n",
       "      <td>...</td>\n",
       "      <td>...</td>\n",
       "      <td>...</td>\n",
       "      <td>...</td>\n",
       "      <td>...</td>\n",
       "      <td>...</td>\n",
       "      <td>...</td>\n",
       "      <td>...</td>\n",
       "      <td>...</td>\n",
       "      <td>...</td>\n",
       "      <td>...</td>\n",
       "      <td>...</td>\n",
       "      <td>...</td>\n",
       "    </tr>\n",
       "    <tr>\n",
       "      <td>9919</td>\n",
       "      <td>21995</td>\n",
       "      <td>2016</td>\n",
       "      <td>177364</td>\n",
       "      <td>10</td>\n",
       "      <td>8</td>\n",
       "      <td>17</td>\n",
       "      <td>10</td>\n",
       "      <td>944</td>\n",
       "      <td>0</td>\n",
       "      <td>6</td>\n",
       "      <td>2</td>\n",
       "      <td>0</td>\n",
       "      <td>0</td>\n",
       "    </tr>\n",
       "    <tr>\n",
       "      <td>9920</td>\n",
       "      <td>44995</td>\n",
       "      <td>2020</td>\n",
       "      <td>14361</td>\n",
       "      <td>0</td>\n",
       "      <td>8</td>\n",
       "      <td>17</td>\n",
       "      <td>5</td>\n",
       "      <td>868</td>\n",
       "      <td>0</td>\n",
       "      <td>6</td>\n",
       "      <td>2</td>\n",
       "      <td>0</td>\n",
       "      <td>0</td>\n",
       "    </tr>\n",
       "    <tr>\n",
       "      <td>9921</td>\n",
       "      <td>24995</td>\n",
       "      <td>2014</td>\n",
       "      <td>77541</td>\n",
       "      <td>1</td>\n",
       "      <td>8</td>\n",
       "      <td>17</td>\n",
       "      <td>32</td>\n",
       "      <td>1021</td>\n",
       "      <td>0</td>\n",
       "      <td>6</td>\n",
       "      <td>2</td>\n",
       "      <td>0</td>\n",
       "      <td>0</td>\n",
       "    </tr>\n",
       "    <tr>\n",
       "      <td>9922</td>\n",
       "      <td>1500</td>\n",
       "      <td>1998</td>\n",
       "      <td>210000</td>\n",
       "      <td>0</td>\n",
       "      <td>6</td>\n",
       "      <td>17</td>\n",
       "      <td>16</td>\n",
       "      <td>219</td>\n",
       "      <td>0</td>\n",
       "      <td>3</td>\n",
       "      <td>2</td>\n",
       "      <td>0</td>\n",
       "      <td>0</td>\n",
       "    </tr>\n",
       "    <tr>\n",
       "      <td>9932</td>\n",
       "      <td>3995</td>\n",
       "      <td>2011</td>\n",
       "      <td>103000</td>\n",
       "      <td>0</td>\n",
       "      <td>4</td>\n",
       "      <td>17</td>\n",
       "      <td>13</td>\n",
       "      <td>98</td>\n",
       "      <td>0</td>\n",
       "      <td>3</td>\n",
       "      <td>2</td>\n",
       "      <td>0</td>\n",
       "      <td>1</td>\n",
       "    </tr>\n",
       "  </tbody>\n",
       "</table>\n",
       "<p>2159 rows × 13 columns</p>\n",
       "</div>"
      ],
      "text/plain": [
       "      price  year  odometer  color_code  type_code  region_code  \\\n",
       "5     13995  2012    188406           5         10            8   \n",
       "6      7995  2010    108124           5          0            8   \n",
       "7      8995  2011    178054          10          0            8   \n",
       "8     10995  2014    170259          10          0            8   \n",
       "10    10995  2011    210865           9         10            8   \n",
       "...     ...   ...       ...         ...        ...          ...   \n",
       "9919  21995  2016    177364          10          8           17   \n",
       "9920  44995  2020     14361           0          8           17   \n",
       "9921  24995  2014     77541           1          8           17   \n",
       "9922   1500  1998    210000           0          6           17   \n",
       "9932   3995  2011    103000           0          4           17   \n",
       "\n",
       "      manufacturer_code  model_code  condition_code  cylinders_code  \\\n",
       "5                    10         401               2               5   \n",
       "6                     5         355               2               3   \n",
       "7                     5        1006               2               5   \n",
       "8                    10         387               2               5   \n",
       "10                    5         868               2               6   \n",
       "...                 ...         ...             ...             ...   \n",
       "9919                 10         944               0               6   \n",
       "9920                  5         868               0               6   \n",
       "9921                 32        1021               0               6   \n",
       "9922                 16         219               0               3   \n",
       "9932                 13          98               0               3   \n",
       "\n",
       "      fuel_code  transmission_code  drive_code  \n",
       "5             2                  0           0  \n",
       "6             2                  0           0  \n",
       "7             2                  0           0  \n",
       "8             2                  0           0  \n",
       "10            2                  0           0  \n",
       "...         ...                ...         ...  \n",
       "9919          2                  0           0  \n",
       "9920          2                  0           0  \n",
       "9921          2                  0           0  \n",
       "9922          2                  0           0  \n",
       "9932          2                  0           1  \n",
       "\n",
       "[2159 rows x 13 columns]"
      ]
     },
     "execution_count": 64,
     "metadata": {},
     "output_type": "execute_result"
    }
   ],
   "source": [
    "df_clean = pd.get_dummies(df_clean, drop_first=True)\n",
    "print(df_clean.columns)\n",
    "df_clean"
   ]
  },
  {
   "cell_type": "code",
   "execution_count": 65,
   "metadata": {},
   "outputs": [
    {
     "name": "stdout",
     "output_type": "stream",
     "text": [
      "[ 5 10  9  1  2  7  8  0  4  3  6 11]\n"
     ]
    },
    {
     "data": {
      "text/html": [
       "<div>\n",
       "<style scoped>\n",
       "    .dataframe tbody tr th:only-of-type {\n",
       "        vertical-align: middle;\n",
       "    }\n",
       "\n",
       "    .dataframe tbody tr th {\n",
       "        vertical-align: top;\n",
       "    }\n",
       "\n",
       "    .dataframe thead th {\n",
       "        text-align: right;\n",
       "    }\n",
       "</style>\n",
       "<table border=\"1\" class=\"dataframe\">\n",
       "  <thead>\n",
       "    <tr style=\"text-align: right;\">\n",
       "      <th></th>\n",
       "      <th>color_code_0</th>\n",
       "      <th>color_code_1</th>\n",
       "      <th>color_code_2</th>\n",
       "      <th>color_code_3</th>\n",
       "      <th>color_code_4</th>\n",
       "      <th>color_code_5</th>\n",
       "      <th>color_code_6</th>\n",
       "      <th>color_code_7</th>\n",
       "      <th>color_code_8</th>\n",
       "      <th>color_code_9</th>\n",
       "      <th>color_code_10</th>\n",
       "      <th>color_code_11</th>\n",
       "    </tr>\n",
       "  </thead>\n",
       "  <tbody>\n",
       "    <tr>\n",
       "      <td>5</td>\n",
       "      <td>0</td>\n",
       "      <td>0</td>\n",
       "      <td>0</td>\n",
       "      <td>0</td>\n",
       "      <td>0</td>\n",
       "      <td>1</td>\n",
       "      <td>0</td>\n",
       "      <td>0</td>\n",
       "      <td>0</td>\n",
       "      <td>0</td>\n",
       "      <td>0</td>\n",
       "      <td>0</td>\n",
       "    </tr>\n",
       "    <tr>\n",
       "      <td>6</td>\n",
       "      <td>0</td>\n",
       "      <td>0</td>\n",
       "      <td>0</td>\n",
       "      <td>0</td>\n",
       "      <td>0</td>\n",
       "      <td>1</td>\n",
       "      <td>0</td>\n",
       "      <td>0</td>\n",
       "      <td>0</td>\n",
       "      <td>0</td>\n",
       "      <td>0</td>\n",
       "      <td>0</td>\n",
       "    </tr>\n",
       "    <tr>\n",
       "      <td>7</td>\n",
       "      <td>0</td>\n",
       "      <td>0</td>\n",
       "      <td>0</td>\n",
       "      <td>0</td>\n",
       "      <td>0</td>\n",
       "      <td>0</td>\n",
       "      <td>0</td>\n",
       "      <td>0</td>\n",
       "      <td>0</td>\n",
       "      <td>0</td>\n",
       "      <td>1</td>\n",
       "      <td>0</td>\n",
       "    </tr>\n",
       "    <tr>\n",
       "      <td>8</td>\n",
       "      <td>0</td>\n",
       "      <td>0</td>\n",
       "      <td>0</td>\n",
       "      <td>0</td>\n",
       "      <td>0</td>\n",
       "      <td>0</td>\n",
       "      <td>0</td>\n",
       "      <td>0</td>\n",
       "      <td>0</td>\n",
       "      <td>0</td>\n",
       "      <td>1</td>\n",
       "      <td>0</td>\n",
       "    </tr>\n",
       "    <tr>\n",
       "      <td>10</td>\n",
       "      <td>0</td>\n",
       "      <td>0</td>\n",
       "      <td>0</td>\n",
       "      <td>0</td>\n",
       "      <td>0</td>\n",
       "      <td>0</td>\n",
       "      <td>0</td>\n",
       "      <td>0</td>\n",
       "      <td>0</td>\n",
       "      <td>1</td>\n",
       "      <td>0</td>\n",
       "      <td>0</td>\n",
       "    </tr>\n",
       "  </tbody>\n",
       "</table>\n",
       "</div>"
      ],
      "text/plain": [
       "    color_code_0  color_code_1  color_code_2  color_code_3  color_code_4  \\\n",
       "5              0             0             0             0             0   \n",
       "6              0             0             0             0             0   \n",
       "7              0             0             0             0             0   \n",
       "8              0             0             0             0             0   \n",
       "10             0             0             0             0             0   \n",
       "\n",
       "    color_code_5  color_code_6  color_code_7  color_code_8  color_code_9  \\\n",
       "5              1             0             0             0             0   \n",
       "6              1             0             0             0             0   \n",
       "7              0             0             0             0             0   \n",
       "8              0             0             0             0             0   \n",
       "10             0             0             0             0             1   \n",
       "\n",
       "    color_code_10  color_code_11  \n",
       "5               0              0  \n",
       "6               0              0  \n",
       "7               1              0  \n",
       "8               1              0  \n",
       "10              0              0  "
      ]
     },
     "execution_count": 65,
     "metadata": {},
     "output_type": "execute_result"
    }
   ],
   "source": [
    "#hot encoding color code of the data frame\n",
    "print(df_clean['color_code'].unique())\n",
    "df_clean['color_code'] = pd.Categorical(df_clean['color_code'])\n",
    "color_code_Type = pd.get_dummies(df_clean['color_code'], prefix = 'color_code')\n",
    "color_code_Type.head()"
   ]
  },
  {
   "cell_type": "code",
   "execution_count": 66,
   "metadata": {},
   "outputs": [
    {
     "name": "stdout",
     "output_type": "stream",
     "text": [
      "[10  0  9  5  4  3  8 12  2 11  7  1  6]\n"
     ]
    },
    {
     "data": {
      "text/html": [
       "<div>\n",
       "<style scoped>\n",
       "    .dataframe tbody tr th:only-of-type {\n",
       "        vertical-align: middle;\n",
       "    }\n",
       "\n",
       "    .dataframe tbody tr th {\n",
       "        vertical-align: top;\n",
       "    }\n",
       "\n",
       "    .dataframe thead th {\n",
       "        text-align: right;\n",
       "    }\n",
       "</style>\n",
       "<table border=\"1\" class=\"dataframe\">\n",
       "  <thead>\n",
       "    <tr style=\"text-align: right;\">\n",
       "      <th></th>\n",
       "      <th>type_code_0</th>\n",
       "      <th>type_code_1</th>\n",
       "      <th>type_code_2</th>\n",
       "      <th>type_code_3</th>\n",
       "      <th>type_code_4</th>\n",
       "      <th>type_code_5</th>\n",
       "      <th>type_code_6</th>\n",
       "      <th>type_code_7</th>\n",
       "      <th>type_code_8</th>\n",
       "      <th>type_code_9</th>\n",
       "      <th>type_code_10</th>\n",
       "      <th>type_code_11</th>\n",
       "      <th>type_code_12</th>\n",
       "    </tr>\n",
       "  </thead>\n",
       "  <tbody>\n",
       "    <tr>\n",
       "      <td>5</td>\n",
       "      <td>0</td>\n",
       "      <td>0</td>\n",
       "      <td>0</td>\n",
       "      <td>0</td>\n",
       "      <td>0</td>\n",
       "      <td>0</td>\n",
       "      <td>0</td>\n",
       "      <td>0</td>\n",
       "      <td>0</td>\n",
       "      <td>0</td>\n",
       "      <td>1</td>\n",
       "      <td>0</td>\n",
       "      <td>0</td>\n",
       "    </tr>\n",
       "    <tr>\n",
       "      <td>6</td>\n",
       "      <td>1</td>\n",
       "      <td>0</td>\n",
       "      <td>0</td>\n",
       "      <td>0</td>\n",
       "      <td>0</td>\n",
       "      <td>0</td>\n",
       "      <td>0</td>\n",
       "      <td>0</td>\n",
       "      <td>0</td>\n",
       "      <td>0</td>\n",
       "      <td>0</td>\n",
       "      <td>0</td>\n",
       "      <td>0</td>\n",
       "    </tr>\n",
       "    <tr>\n",
       "      <td>7</td>\n",
       "      <td>1</td>\n",
       "      <td>0</td>\n",
       "      <td>0</td>\n",
       "      <td>0</td>\n",
       "      <td>0</td>\n",
       "      <td>0</td>\n",
       "      <td>0</td>\n",
       "      <td>0</td>\n",
       "      <td>0</td>\n",
       "      <td>0</td>\n",
       "      <td>0</td>\n",
       "      <td>0</td>\n",
       "      <td>0</td>\n",
       "    </tr>\n",
       "    <tr>\n",
       "      <td>8</td>\n",
       "      <td>1</td>\n",
       "      <td>0</td>\n",
       "      <td>0</td>\n",
       "      <td>0</td>\n",
       "      <td>0</td>\n",
       "      <td>0</td>\n",
       "      <td>0</td>\n",
       "      <td>0</td>\n",
       "      <td>0</td>\n",
       "      <td>0</td>\n",
       "      <td>0</td>\n",
       "      <td>0</td>\n",
       "      <td>0</td>\n",
       "    </tr>\n",
       "    <tr>\n",
       "      <td>10</td>\n",
       "      <td>0</td>\n",
       "      <td>0</td>\n",
       "      <td>0</td>\n",
       "      <td>0</td>\n",
       "      <td>0</td>\n",
       "      <td>0</td>\n",
       "      <td>0</td>\n",
       "      <td>0</td>\n",
       "      <td>0</td>\n",
       "      <td>0</td>\n",
       "      <td>1</td>\n",
       "      <td>0</td>\n",
       "      <td>0</td>\n",
       "    </tr>\n",
       "  </tbody>\n",
       "</table>\n",
       "</div>"
      ],
      "text/plain": [
       "    type_code_0  type_code_1  type_code_2  type_code_3  type_code_4  \\\n",
       "5             0            0            0            0            0   \n",
       "6             1            0            0            0            0   \n",
       "7             1            0            0            0            0   \n",
       "8             1            0            0            0            0   \n",
       "10            0            0            0            0            0   \n",
       "\n",
       "    type_code_5  type_code_6  type_code_7  type_code_8  type_code_9  \\\n",
       "5             0            0            0            0            0   \n",
       "6             0            0            0            0            0   \n",
       "7             0            0            0            0            0   \n",
       "8             0            0            0            0            0   \n",
       "10            0            0            0            0            0   \n",
       "\n",
       "    type_code_10  type_code_11  type_code_12  \n",
       "5              1             0             0  \n",
       "6              0             0             0  \n",
       "7              0             0             0  \n",
       "8              0             0             0  \n",
       "10             1             0             0  "
      ]
     },
     "execution_count": 66,
     "metadata": {},
     "output_type": "execute_result"
    }
   ],
   "source": [
    "#hot encoding type_code code of the data frame\n",
    "print(df_clean['type_code'].unique())\n",
    "df_clean['type_code'] = pd.Categorical(df_clean['type_code'])\n",
    "type_code_Type = pd.get_dummies(df_clean['type_code'], prefix = 'type_code')\n",
    "type_code_Type.head()\n"
   ]
  },
  {
   "cell_type": "code",
   "execution_count": 67,
   "metadata": {},
   "outputs": [
    {
     "name": "stdout",
     "output_type": "stream",
     "text": [
      "[ 8  1 27 10  0 29 47 24  9 48 26  3 25 42 43 45 19  4 46 34 35 36 31 39\n",
      " 40 44  7 11 22 41  6 13 14 37 15 16 18 21 28 30 32 33 20  2  5 12 23 17]\n"
     ]
    },
    {
     "data": {
      "text/html": [
       "<div>\n",
       "<style scoped>\n",
       "    .dataframe tbody tr th:only-of-type {\n",
       "        vertical-align: middle;\n",
       "    }\n",
       "\n",
       "    .dataframe tbody tr th {\n",
       "        vertical-align: top;\n",
       "    }\n",
       "\n",
       "    .dataframe thead th {\n",
       "        text-align: right;\n",
       "    }\n",
       "</style>\n",
       "<table border=\"1\" class=\"dataframe\">\n",
       "  <thead>\n",
       "    <tr style=\"text-align: right;\">\n",
       "      <th></th>\n",
       "      <th>region_code_0</th>\n",
       "      <th>region_code_1</th>\n",
       "      <th>region_code_2</th>\n",
       "      <th>region_code_3</th>\n",
       "      <th>region_code_4</th>\n",
       "      <th>region_code_5</th>\n",
       "      <th>region_code_6</th>\n",
       "      <th>region_code_7</th>\n",
       "      <th>region_code_8</th>\n",
       "      <th>region_code_9</th>\n",
       "      <th>...</th>\n",
       "      <th>region_code_39</th>\n",
       "      <th>region_code_40</th>\n",
       "      <th>region_code_41</th>\n",
       "      <th>region_code_42</th>\n",
       "      <th>region_code_43</th>\n",
       "      <th>region_code_44</th>\n",
       "      <th>region_code_45</th>\n",
       "      <th>region_code_46</th>\n",
       "      <th>region_code_47</th>\n",
       "      <th>region_code_48</th>\n",
       "    </tr>\n",
       "  </thead>\n",
       "  <tbody>\n",
       "    <tr>\n",
       "      <td>5</td>\n",
       "      <td>0</td>\n",
       "      <td>0</td>\n",
       "      <td>0</td>\n",
       "      <td>0</td>\n",
       "      <td>0</td>\n",
       "      <td>0</td>\n",
       "      <td>0</td>\n",
       "      <td>0</td>\n",
       "      <td>1</td>\n",
       "      <td>0</td>\n",
       "      <td>...</td>\n",
       "      <td>0</td>\n",
       "      <td>0</td>\n",
       "      <td>0</td>\n",
       "      <td>0</td>\n",
       "      <td>0</td>\n",
       "      <td>0</td>\n",
       "      <td>0</td>\n",
       "      <td>0</td>\n",
       "      <td>0</td>\n",
       "      <td>0</td>\n",
       "    </tr>\n",
       "    <tr>\n",
       "      <td>6</td>\n",
       "      <td>0</td>\n",
       "      <td>0</td>\n",
       "      <td>0</td>\n",
       "      <td>0</td>\n",
       "      <td>0</td>\n",
       "      <td>0</td>\n",
       "      <td>0</td>\n",
       "      <td>0</td>\n",
       "      <td>1</td>\n",
       "      <td>0</td>\n",
       "      <td>...</td>\n",
       "      <td>0</td>\n",
       "      <td>0</td>\n",
       "      <td>0</td>\n",
       "      <td>0</td>\n",
       "      <td>0</td>\n",
       "      <td>0</td>\n",
       "      <td>0</td>\n",
       "      <td>0</td>\n",
       "      <td>0</td>\n",
       "      <td>0</td>\n",
       "    </tr>\n",
       "    <tr>\n",
       "      <td>7</td>\n",
       "      <td>0</td>\n",
       "      <td>0</td>\n",
       "      <td>0</td>\n",
       "      <td>0</td>\n",
       "      <td>0</td>\n",
       "      <td>0</td>\n",
       "      <td>0</td>\n",
       "      <td>0</td>\n",
       "      <td>1</td>\n",
       "      <td>0</td>\n",
       "      <td>...</td>\n",
       "      <td>0</td>\n",
       "      <td>0</td>\n",
       "      <td>0</td>\n",
       "      <td>0</td>\n",
       "      <td>0</td>\n",
       "      <td>0</td>\n",
       "      <td>0</td>\n",
       "      <td>0</td>\n",
       "      <td>0</td>\n",
       "      <td>0</td>\n",
       "    </tr>\n",
       "    <tr>\n",
       "      <td>8</td>\n",
       "      <td>0</td>\n",
       "      <td>0</td>\n",
       "      <td>0</td>\n",
       "      <td>0</td>\n",
       "      <td>0</td>\n",
       "      <td>0</td>\n",
       "      <td>0</td>\n",
       "      <td>0</td>\n",
       "      <td>1</td>\n",
       "      <td>0</td>\n",
       "      <td>...</td>\n",
       "      <td>0</td>\n",
       "      <td>0</td>\n",
       "      <td>0</td>\n",
       "      <td>0</td>\n",
       "      <td>0</td>\n",
       "      <td>0</td>\n",
       "      <td>0</td>\n",
       "      <td>0</td>\n",
       "      <td>0</td>\n",
       "      <td>0</td>\n",
       "    </tr>\n",
       "    <tr>\n",
       "      <td>10</td>\n",
       "      <td>0</td>\n",
       "      <td>0</td>\n",
       "      <td>0</td>\n",
       "      <td>0</td>\n",
       "      <td>0</td>\n",
       "      <td>0</td>\n",
       "      <td>0</td>\n",
       "      <td>0</td>\n",
       "      <td>1</td>\n",
       "      <td>0</td>\n",
       "      <td>...</td>\n",
       "      <td>0</td>\n",
       "      <td>0</td>\n",
       "      <td>0</td>\n",
       "      <td>0</td>\n",
       "      <td>0</td>\n",
       "      <td>0</td>\n",
       "      <td>0</td>\n",
       "      <td>0</td>\n",
       "      <td>0</td>\n",
       "      <td>0</td>\n",
       "    </tr>\n",
       "  </tbody>\n",
       "</table>\n",
       "<p>5 rows × 48 columns</p>\n",
       "</div>"
      ],
      "text/plain": [
       "    region_code_0  region_code_1  region_code_2  region_code_3  region_code_4  \\\n",
       "5               0              0              0              0              0   \n",
       "6               0              0              0              0              0   \n",
       "7               0              0              0              0              0   \n",
       "8               0              0              0              0              0   \n",
       "10              0              0              0              0              0   \n",
       "\n",
       "    region_code_5  region_code_6  region_code_7  region_code_8  region_code_9  \\\n",
       "5               0              0              0              1              0   \n",
       "6               0              0              0              1              0   \n",
       "7               0              0              0              1              0   \n",
       "8               0              0              0              1              0   \n",
       "10              0              0              0              1              0   \n",
       "\n",
       "    ...  region_code_39  region_code_40  region_code_41  region_code_42  \\\n",
       "5   ...               0               0               0               0   \n",
       "6   ...               0               0               0               0   \n",
       "7   ...               0               0               0               0   \n",
       "8   ...               0               0               0               0   \n",
       "10  ...               0               0               0               0   \n",
       "\n",
       "    region_code_43  region_code_44  region_code_45  region_code_46  \\\n",
       "5                0               0               0               0   \n",
       "6                0               0               0               0   \n",
       "7                0               0               0               0   \n",
       "8                0               0               0               0   \n",
       "10               0               0               0               0   \n",
       "\n",
       "    region_code_47  region_code_48  \n",
       "5                0               0  \n",
       "6                0               0  \n",
       "7                0               0  \n",
       "8                0               0  \n",
       "10               0               0  \n",
       "\n",
       "[5 rows x 48 columns]"
      ]
     },
     "execution_count": 67,
     "metadata": {},
     "output_type": "execute_result"
    }
   ],
   "source": [
    "#hot encoding region_code code of the data frame\n",
    "print(df_clean['region_code'].unique())\n",
    "df_clean['region_code'] = pd.Categorical(df_clean['region_code'])\n",
    "region_code_Type = pd.get_dummies(df_clean['region_code'], prefix = 'region_code')\n",
    "region_code_Type.head()"
   ]
  },
  {
   "cell_type": "code",
   "execution_count": 68,
   "metadata": {},
   "outputs": [
    {
     "name": "stdout",
     "output_type": "stream",
     "text": [
      "[5 3 6 4 7 2 0]\n"
     ]
    },
    {
     "data": {
      "text/html": [
       "<div>\n",
       "<style scoped>\n",
       "    .dataframe tbody tr th:only-of-type {\n",
       "        vertical-align: middle;\n",
       "    }\n",
       "\n",
       "    .dataframe tbody tr th {\n",
       "        vertical-align: top;\n",
       "    }\n",
       "\n",
       "    .dataframe thead th {\n",
       "        text-align: right;\n",
       "    }\n",
       "</style>\n",
       "<table border=\"1\" class=\"dataframe\">\n",
       "  <thead>\n",
       "    <tr style=\"text-align: right;\">\n",
       "      <th></th>\n",
       "      <th>cylinders_code_0</th>\n",
       "      <th>cylinders_code_2</th>\n",
       "      <th>cylinders_code_3</th>\n",
       "      <th>cylinders_code_4</th>\n",
       "      <th>cylinders_code_5</th>\n",
       "      <th>cylinders_code_6</th>\n",
       "      <th>cylinders_code_7</th>\n",
       "    </tr>\n",
       "  </thead>\n",
       "  <tbody>\n",
       "    <tr>\n",
       "      <td>5</td>\n",
       "      <td>0</td>\n",
       "      <td>0</td>\n",
       "      <td>0</td>\n",
       "      <td>0</td>\n",
       "      <td>1</td>\n",
       "      <td>0</td>\n",
       "      <td>0</td>\n",
       "    </tr>\n",
       "    <tr>\n",
       "      <td>6</td>\n",
       "      <td>0</td>\n",
       "      <td>0</td>\n",
       "      <td>1</td>\n",
       "      <td>0</td>\n",
       "      <td>0</td>\n",
       "      <td>0</td>\n",
       "      <td>0</td>\n",
       "    </tr>\n",
       "    <tr>\n",
       "      <td>7</td>\n",
       "      <td>0</td>\n",
       "      <td>0</td>\n",
       "      <td>0</td>\n",
       "      <td>0</td>\n",
       "      <td>1</td>\n",
       "      <td>0</td>\n",
       "      <td>0</td>\n",
       "    </tr>\n",
       "    <tr>\n",
       "      <td>8</td>\n",
       "      <td>0</td>\n",
       "      <td>0</td>\n",
       "      <td>0</td>\n",
       "      <td>0</td>\n",
       "      <td>1</td>\n",
       "      <td>0</td>\n",
       "      <td>0</td>\n",
       "    </tr>\n",
       "    <tr>\n",
       "      <td>10</td>\n",
       "      <td>0</td>\n",
       "      <td>0</td>\n",
       "      <td>0</td>\n",
       "      <td>0</td>\n",
       "      <td>0</td>\n",
       "      <td>1</td>\n",
       "      <td>0</td>\n",
       "    </tr>\n",
       "  </tbody>\n",
       "</table>\n",
       "</div>"
      ],
      "text/plain": [
       "    cylinders_code_0  cylinders_code_2  cylinders_code_3  cylinders_code_4  \\\n",
       "5                  0                 0                 0                 0   \n",
       "6                  0                 0                 1                 0   \n",
       "7                  0                 0                 0                 0   \n",
       "8                  0                 0                 0                 0   \n",
       "10                 0                 0                 0                 0   \n",
       "\n",
       "    cylinders_code_5  cylinders_code_6  cylinders_code_7  \n",
       "5                  1                 0                 0  \n",
       "6                  0                 0                 0  \n",
       "7                  1                 0                 0  \n",
       "8                  1                 0                 0  \n",
       "10                 0                 1                 0  "
      ]
     },
     "execution_count": 68,
     "metadata": {},
     "output_type": "execute_result"
    }
   ],
   "source": [
    "#hot encoding region_code code of the data frame\n",
    "print(df_clean['cylinders_code'].unique())\n",
    "df_clean['cylinders_code'] = pd.Categorical(df_clean['cylinders_code'])\n",
    "cylinders_code_Type = pd.get_dummies(df_clean['cylinders_code'], prefix = 'cylinders_code')\n",
    "cylinders_code_Type.head()\n"
   ]
  },
  {
   "cell_type": "code",
   "execution_count": 69,
   "metadata": {},
   "outputs": [
    {
     "data": {
      "text/html": [
       "<div>\n",
       "<style scoped>\n",
       "    .dataframe tbody tr th:only-of-type {\n",
       "        vertical-align: middle;\n",
       "    }\n",
       "\n",
       "    .dataframe tbody tr th {\n",
       "        vertical-align: top;\n",
       "    }\n",
       "\n",
       "    .dataframe thead th {\n",
       "        text-align: right;\n",
       "    }\n",
       "</style>\n",
       "<table border=\"1\" class=\"dataframe\">\n",
       "  <thead>\n",
       "    <tr style=\"text-align: right;\">\n",
       "      <th></th>\n",
       "      <th>price</th>\n",
       "      <th>year</th>\n",
       "      <th>odometer</th>\n",
       "      <th>manufacturer_code</th>\n",
       "      <th>model_code</th>\n",
       "      <th>condition_code</th>\n",
       "      <th>fuel_code</th>\n",
       "      <th>transmission_code</th>\n",
       "      <th>drive_code</th>\n",
       "      <th>cylinders_code_0</th>\n",
       "      <th>...</th>\n",
       "      <th>color_code_2</th>\n",
       "      <th>color_code_3</th>\n",
       "      <th>color_code_4</th>\n",
       "      <th>color_code_5</th>\n",
       "      <th>color_code_6</th>\n",
       "      <th>color_code_7</th>\n",
       "      <th>color_code_8</th>\n",
       "      <th>color_code_9</th>\n",
       "      <th>color_code_10</th>\n",
       "      <th>color_code_11</th>\n",
       "    </tr>\n",
       "  </thead>\n",
       "  <tbody>\n",
       "    <tr>\n",
       "      <td>5</td>\n",
       "      <td>13995</td>\n",
       "      <td>2012</td>\n",
       "      <td>188406</td>\n",
       "      <td>10</td>\n",
       "      <td>401</td>\n",
       "      <td>2</td>\n",
       "      <td>2</td>\n",
       "      <td>0</td>\n",
       "      <td>0</td>\n",
       "      <td>0</td>\n",
       "      <td>...</td>\n",
       "      <td>0</td>\n",
       "      <td>0</td>\n",
       "      <td>0</td>\n",
       "      <td>1</td>\n",
       "      <td>0</td>\n",
       "      <td>0</td>\n",
       "      <td>0</td>\n",
       "      <td>0</td>\n",
       "      <td>0</td>\n",
       "      <td>0</td>\n",
       "    </tr>\n",
       "    <tr>\n",
       "      <td>6</td>\n",
       "      <td>7995</td>\n",
       "      <td>2010</td>\n",
       "      <td>108124</td>\n",
       "      <td>5</td>\n",
       "      <td>355</td>\n",
       "      <td>2</td>\n",
       "      <td>2</td>\n",
       "      <td>0</td>\n",
       "      <td>0</td>\n",
       "      <td>0</td>\n",
       "      <td>...</td>\n",
       "      <td>0</td>\n",
       "      <td>0</td>\n",
       "      <td>0</td>\n",
       "      <td>1</td>\n",
       "      <td>0</td>\n",
       "      <td>0</td>\n",
       "      <td>0</td>\n",
       "      <td>0</td>\n",
       "      <td>0</td>\n",
       "      <td>0</td>\n",
       "    </tr>\n",
       "    <tr>\n",
       "      <td>7</td>\n",
       "      <td>8995</td>\n",
       "      <td>2011</td>\n",
       "      <td>178054</td>\n",
       "      <td>5</td>\n",
       "      <td>1006</td>\n",
       "      <td>2</td>\n",
       "      <td>2</td>\n",
       "      <td>0</td>\n",
       "      <td>0</td>\n",
       "      <td>0</td>\n",
       "      <td>...</td>\n",
       "      <td>0</td>\n",
       "      <td>0</td>\n",
       "      <td>0</td>\n",
       "      <td>0</td>\n",
       "      <td>0</td>\n",
       "      <td>0</td>\n",
       "      <td>0</td>\n",
       "      <td>0</td>\n",
       "      <td>1</td>\n",
       "      <td>0</td>\n",
       "    </tr>\n",
       "    <tr>\n",
       "      <td>8</td>\n",
       "      <td>10995</td>\n",
       "      <td>2014</td>\n",
       "      <td>170259</td>\n",
       "      <td>10</td>\n",
       "      <td>387</td>\n",
       "      <td>2</td>\n",
       "      <td>2</td>\n",
       "      <td>0</td>\n",
       "      <td>0</td>\n",
       "      <td>0</td>\n",
       "      <td>...</td>\n",
       "      <td>0</td>\n",
       "      <td>0</td>\n",
       "      <td>0</td>\n",
       "      <td>0</td>\n",
       "      <td>0</td>\n",
       "      <td>0</td>\n",
       "      <td>0</td>\n",
       "      <td>0</td>\n",
       "      <td>1</td>\n",
       "      <td>0</td>\n",
       "    </tr>\n",
       "    <tr>\n",
       "      <td>10</td>\n",
       "      <td>10995</td>\n",
       "      <td>2011</td>\n",
       "      <td>210865</td>\n",
       "      <td>5</td>\n",
       "      <td>868</td>\n",
       "      <td>2</td>\n",
       "      <td>2</td>\n",
       "      <td>0</td>\n",
       "      <td>0</td>\n",
       "      <td>0</td>\n",
       "      <td>...</td>\n",
       "      <td>0</td>\n",
       "      <td>0</td>\n",
       "      <td>0</td>\n",
       "      <td>0</td>\n",
       "      <td>0</td>\n",
       "      <td>0</td>\n",
       "      <td>0</td>\n",
       "      <td>1</td>\n",
       "      <td>0</td>\n",
       "      <td>0</td>\n",
       "    </tr>\n",
       "  </tbody>\n",
       "</table>\n",
       "<p>5 rows × 89 columns</p>\n",
       "</div>"
      ],
      "text/plain": [
       "    price  year  odometer  manufacturer_code  model_code  condition_code  \\\n",
       "5   13995  2012    188406                 10         401               2   \n",
       "6    7995  2010    108124                  5         355               2   \n",
       "7    8995  2011    178054                  5        1006               2   \n",
       "8   10995  2014    170259                 10         387               2   \n",
       "10  10995  2011    210865                  5         868               2   \n",
       "\n",
       "    fuel_code  transmission_code  drive_code  cylinders_code_0  ...  \\\n",
       "5           2                  0           0                 0  ...   \n",
       "6           2                  0           0                 0  ...   \n",
       "7           2                  0           0                 0  ...   \n",
       "8           2                  0           0                 0  ...   \n",
       "10          2                  0           0                 0  ...   \n",
       "\n",
       "    color_code_2  color_code_3  color_code_4  color_code_5  color_code_6  \\\n",
       "5              0             0             0             1             0   \n",
       "6              0             0             0             1             0   \n",
       "7              0             0             0             0             0   \n",
       "8              0             0             0             0             0   \n",
       "10             0             0             0             0             0   \n",
       "\n",
       "    color_code_7  color_code_8  color_code_9  color_code_10  color_code_11  \n",
       "5              0             0             0              0              0  \n",
       "6              0             0             0              0              0  \n",
       "7              0             0             0              1              0  \n",
       "8              0             0             0              1              0  \n",
       "10             0             0             1              0              0  \n",
       "\n",
       "[5 rows x 89 columns]"
      ]
     },
     "execution_count": 69,
     "metadata": {},
     "output_type": "execute_result"
    }
   ],
   "source": [
    "df_clean = pd.concat([df_clean, cylinders_code_Type, region_code_Type, type_code_Type,color_code_Type], axis=1)\n",
    "df_clean = df_clean.drop(columns=['cylinders_code', 'region_code', 'type_code','color_code'])\n",
    "df_clean.head()"
   ]
  },
  {
   "cell_type": "markdown",
   "metadata": {},
   "source": [
    " ### Random forest model before applying the model on 15columns"
   ]
  },
  {
   "cell_type": "code",
   "execution_count": 70,
   "metadata": {},
   "outputs": [],
   "source": [
    "# scaled the data using StandardScaler on price\n",
    "Xo = df_clean.loc[1:1000, df_clean.columns != 'price']#all values except price to X\n",
    "yo = df_clean.loc[1:1000, df_clean.columns == 'price']"
   ]
  },
  {
   "cell_type": "code",
   "execution_count": null,
   "metadata": {},
   "outputs": [],
   "source": []
  },
  {
   "cell_type": "code",
   "execution_count": 71,
   "metadata": {},
   "outputs": [],
   "source": [
    "yo = yo.values.flatten()"
   ]
  },
  {
   "cell_type": "code",
   "execution_count": 72,
   "metadata": {},
   "outputs": [],
   "source": [
    "#creating random forest model to check the variables using price \n",
    "Xo_train, Xo_test, yo_train, yo_test = train_test_split(Xo, yo, test_size=.25, random_state=1) #split the data in to test and train with test size at 25%\n",
    "sc = StandardScaler()\n",
    "Xo_train = sc.fit_transform(Xo_train)\n",
    "Xo_test = sc.transform(Xo_test)\n",
    "modelo = RandomForestRegressor(random_state=2) #building the model b random forest method\n",
    "modelo.fit(Xo_train, yo_train) #fitting the model using training data\n",
    "predo = modelo.predict(Xo_test) #predicting the model using the test data"
   ]
  },
  {
   "cell_type": "code",
   "execution_count": 73,
   "metadata": {},
   "outputs": [
    {
     "name": "stdout",
     "output_type": "stream",
     "text": [
      "The mean absolute error 2893.827402597402\n"
     ]
    }
   ],
   "source": [
    "print('The mean absolute error',mae(yo_test, predo)) #mean absolute error of the model"
   ]
  },
  {
   "cell_type": "code",
   "execution_count": 74,
   "metadata": {},
   "outputs": [
    {
     "name": "stdout",
     "output_type": "stream",
     "text": [
      "Score of the model is  0.6889615728801413\n"
     ]
    }
   ],
   "source": [
    "print('Score of the model is ',modelo.score(Xo_test,yo_test)) #accuracy of the model based on train and test"
   ]
  },
  {
   "cell_type": "markdown",
   "metadata": {},
   "source": [
    "### PCA to transform 88 to 3 comp"
   ]
  },
  {
   "cell_type": "code",
   "execution_count": 75,
   "metadata": {},
   "outputs": [],
   "source": [
    "#PCA analysis"
   ]
  },
  {
   "cell_type": "code",
   "execution_count": 76,
   "metadata": {},
   "outputs": [],
   "source": [
    "# scaled the data using StandardScaler on price\n",
    "Xp = df_clean.loc[1:1000, df_clean.columns != 'price']#all values except price to X\n",
    "#X = StandardScaler().fit_transform(X) #making the data zero mean and variance along each feature\n",
    "#y = df_clean['price'] #actual price values while still retaining before standar scalor operation\n",
    "yp = df_clean.loc[1:1000, df_clean.columns == 'price']"
   ]
  },
  {
   "cell_type": "code",
   "execution_count": 77,
   "metadata": {},
   "outputs": [],
   "source": [
    "yp = yp.values.flatten()"
   ]
  },
  {
   "cell_type": "code",
   "execution_count": 78,
   "metadata": {},
   "outputs": [],
   "source": [
    "#creating random forest model to check the variables using price \n",
    "Xp_train, Xp_test, yp_train, yp_test = train_test_split(Xp, yp, test_size=.25, random_state=0) #split the data in to test and train with test size at 25%\n",
    "sc = StandardScaler()\n",
    "Xp_train = sc.fit_transform(Xp_train)\n",
    "Xp_test = sc.transform(Xp_test)"
   ]
  },
  {
   "cell_type": "code",
   "execution_count": 79,
   "metadata": {},
   "outputs": [],
   "source": [
    "pca = PCA(n_components=4)\n",
    "Xp_train = pca.fit_transform(Xp_train)\n",
    "Xp_test = pca.transform(Xp_test)"
   ]
  },
  {
   "cell_type": "code",
   "execution_count": 80,
   "metadata": {},
   "outputs": [],
   "source": [
    "explained_variance = pca.explained_variance_ratio_"
   ]
  },
  {
   "cell_type": "code",
   "execution_count": 81,
   "metadata": {},
   "outputs": [
    {
     "data": {
      "text/plain": [
       "array([0.07733869, 0.05874091, 0.05536627, 0.04819349])"
      ]
     },
     "execution_count": 81,
     "metadata": {},
     "output_type": "execute_result"
    }
   ],
   "source": [
    "explained_variance"
   ]
  },
  {
   "cell_type": "code",
   "execution_count": 82,
   "metadata": {},
   "outputs": [],
   "source": [
    "pca = PCA(n_components=1)\n",
    "Xp_train = pca.fit_transform(Xp_train)\n",
    "Xp_test = pca.transform(Xp_test)"
   ]
  },
  {
   "cell_type": "code",
   "execution_count": 83,
   "metadata": {},
   "outputs": [],
   "source": [
    "modelp = RandomForestRegressor(random_state=2) #building the model b random forest method\n",
    "modelp.fit(Xp_train, yp_train) #fitting the model using training data\n",
    "predp = modelp.predict(Xp_test) #predicting the model using the test data"
   ]
  },
  {
   "cell_type": "code",
   "execution_count": 84,
   "metadata": {},
   "outputs": [
    {
     "name": "stdout",
     "output_type": "stream",
     "text": [
      "The mean absolute error 6923.427142857143\n"
     ]
    }
   ],
   "source": [
    "print('The mean absolute error',mae(yp_test, predp)) #mean absolute error of the model"
   ]
  },
  {
   "cell_type": "code",
   "execution_count": 85,
   "metadata": {},
   "outputs": [
    {
     "name": "stdout",
     "output_type": "stream",
     "text": [
      "The mean price of the vehicle is 12741.483094025012\n"
     ]
    }
   ],
   "source": [
    "print('The mean price of the vehicle is',df_clean['price'].mean()) #mean vehicle price of all data set"
   ]
  },
  {
   "cell_type": "code",
   "execution_count": 86,
   "metadata": {},
   "outputs": [
    {
     "name": "stdout",
     "output_type": "stream",
     "text": [
      "Score of the model is  -0.5256584453711577\n"
     ]
    }
   ],
   "source": [
    "print('Score of the model is ',modelp.score(Xp_test,yp_test)) #accuracy of the model based on train and test"
   ]
  },
  {
   "cell_type": "code",
   "execution_count": null,
   "metadata": {},
   "outputs": [],
   "source": []
  },
  {
   "cell_type": "code",
   "execution_count": 87,
   "metadata": {},
   "outputs": [],
   "source": [
    "#Lasso Regression to reduce features"
   ]
  },
  {
   "cell_type": "code",
   "execution_count": 88,
   "metadata": {},
   "outputs": [],
   "source": [
    "from sklearn.linear_model import Lasso\n",
    "from sklearn.datasets import load_boston\n",
    "from sklearn.preprocessing import StandardScaler\n"
   ]
  },
  {
   "cell_type": "code",
   "execution_count": 89,
   "metadata": {},
   "outputs": [],
   "source": [
    "# Create features \n",
    "Xl = df_clean.loc[1:1000, df_clean.columns != 'price']#all values except price to X (features)\n",
    "\n",
    "\n",
    "# Create target\n",
    "yl = df_clean.loc[1:1000, df_clean.columns == 'price'] #lable data\n"
   ]
  },
  {
   "cell_type": "code",
   "execution_count": 90,
   "metadata": {},
   "outputs": [],
   "source": [
    "#Standardize features\n",
    "scaler = StandardScaler() #instance of a scalar\n",
    "features_standardized = scaler.fit_transform(Xl) #fit the features to scalar\n"
   ]
  },
  {
   "cell_type": "code",
   "execution_count": 91,
   "metadata": {},
   "outputs": [],
   "source": [
    "#Create lasso regression with alpha value\n",
    "regression = Lasso(alpha=0.5) \n"
   ]
  },
  {
   "cell_type": "code",
   "execution_count": 92,
   "metadata": {},
   "outputs": [
    {
     "name": "stdout",
     "output_type": "stream",
     "text": [
      "Lasso(alpha=0.5)\n"
     ]
    },
    {
     "name": "stderr",
     "output_type": "stream",
     "text": [
      "C:\\ProgramData\\Anaconda3\\lib\\site-packages\\sklearn\\linear_model\\_coordinate_descent.py:531: ConvergenceWarning: Objective did not converge. You might want to increase the number of iterations. Duality gap: 73129860.73472214, tolerance: 2445941.934028197\n",
      "  positive)\n"
     ]
    }
   ],
   "source": [
    "#Fit the linear regression\n",
    "model = regression.fit(features_standardized, yl)\n",
    "print(model)\n"
   ]
  },
  {
   "cell_type": "code",
   "execution_count": 93,
   "metadata": {},
   "outputs": [],
   "source": [
    "col1=list(Xl.columns)\n",
    "coef1=list(model.coef_)"
   ]
  },
  {
   "cell_type": "code",
   "execution_count": 94,
   "metadata": {},
   "outputs": [
    {
     "name": "stdout",
     "output_type": "stream",
     "text": [
      "[11323.41967213]\n",
      "[ 3.50668483e+03 -3.67457370e+03  5.08468261e+02 -7.24301967e+02\n",
      "  1.19772462e+02 -6.39180016e+02 -1.69633199e+02  3.31354518e+00\n",
      "  0.00000000e+00  0.00000000e+00 -3.17615116e+03 -4.75620943e+02\n",
      " -1.51010198e+03  1.65614148e+03  0.00000000e+00 -0.00000000e+00\n",
      " -8.75451466e+02  0.00000000e+00  9.02451582e+02  0.00000000e+00\n",
      "  0.00000000e+00  0.00000000e+00  0.00000000e+00  4.70558226e+02\n",
      "  8.36767481e+01  1.45537416e+02  0.00000000e+00  0.00000000e+00\n",
      "  0.00000000e+00  0.00000000e+00  0.00000000e+00  0.00000000e+00\n",
      "  0.00000000e+00  0.00000000e+00  0.00000000e+00  0.00000000e+00\n",
      "  0.00000000e+00  0.00000000e+00  0.00000000e+00 -4.21947016e+02\n",
      "  0.00000000e+00 -4.74694339e+02 -1.25173459e+02  0.00000000e+00\n",
      " -7.55009320e+02  0.00000000e+00  0.00000000e+00  0.00000000e+00\n",
      "  0.00000000e+00  0.00000000e+00  0.00000000e+00  0.00000000e+00\n",
      "  0.00000000e+00  0.00000000e+00  0.00000000e+00  0.00000000e+00\n",
      "  0.00000000e+00  0.00000000e+00  0.00000000e+00  0.00000000e+00\n",
      "  0.00000000e+00 -6.89968119e+01 -9.55585792e+01  7.18557061e+02\n",
      "  0.00000000e+00  3.48277528e+03  4.19456406e+02 -2.49868449e+02\n",
      " -1.69687377e+02  0.00000000e+00  9.44030008e+02  1.32332064e+02\n",
      " -4.07670675e+02 -1.80119199e+02 -8.81794413e+01  4.19526043e+02\n",
      " -8.61941916e+01 -5.17245036e+02 -9.57207461e+01 -1.29235445e+02\n",
      "  3.25908304e+02 -0.00000000e+00 -2.77266405e+02 -2.91857927e+02\n",
      "  1.95927389e+02  1.65120854e+02  9.47744832e+01  0.00000000e+00]\n"
     ]
    }
   ],
   "source": [
    "print(model.intercept_)\n",
    "print(model.coef_)"
   ]
  },
  {
   "cell_type": "code",
   "execution_count": 95,
   "metadata": {},
   "outputs": [
    {
     "data": {
      "text/plain": [
       "-3674.573701489352"
      ]
     },
     "execution_count": 95,
     "metadata": {},
     "output_type": "execute_result"
    }
   ],
   "source": [
    "coef1[1]"
   ]
  },
  {
   "cell_type": "code",
   "execution_count": 96,
   "metadata": {},
   "outputs": [
    {
     "name": "stdout",
     "output_type": "stream",
     "text": [
      "Effect of Price for Feature year  is  3506.6848264167925\n",
      "Effect of Price for Feature odometer  is  -3674.573701489352\n",
      "Effect of Price for Feature manufacturer_code  is  508.4682607371529\n",
      "Effect of Price for Feature model_code  is  -724.3019669311052\n",
      "Effect of Price for Feature condition_code  is  119.77246218342775\n",
      "Effect of Price for Feature fuel_code  is  -639.1800164333616\n",
      "Effect of Price for Feature transmission_code  is  -169.63319866094332\n",
      "Effect of Price for Feature drive_code  is  3.3135451799948035\n",
      "Effect of Price for Feature cylinders_code_0  is  0.0\n",
      "Effect of Price for Feature cylinders_code_2  is  0.0\n",
      "Effect of Price for Feature cylinders_code_3  is  -3176.151161881574\n",
      "Effect of Price for Feature cylinders_code_4  is  -475.6209434460783\n"
     ]
    }
   ],
   "source": [
    "for i in range(12):\n",
    "    print('Effect of Price for Feature',col1[i],' is ', coef1[i])"
   ]
  },
  {
   "cell_type": "markdown",
   "metadata": {},
   "source": [
    "### Based on the results it is evident transmission type, condition, color and type of vehicle having a lower effect on the price of the car compared to the rest. I would eliminate these 4 columns."
   ]
  },
  {
   "cell_type": "markdown",
   "metadata": {},
   "source": [
    "### What is surprising to me is number of cylinders has 3,900 influence on each unit of cylinders it goes up. Not surprised by each unit of year it goes up, there is a 1,700 positive change. It is not intuitive to interpret the region in which the vehicle is sold, and there is a negative 1000 dollar"
   ]
  },
  {
   "cell_type": "markdown",
   "metadata": {},
   "source": [
    "### The biggest influencing factor is millage a vehicle has, about -4457 dollars effect on price for each mean average\n"
   ]
  },
  {
   "cell_type": "code",
   "execution_count": 97,
   "metadata": {},
   "outputs": [],
   "source": [
    "#model evaluation using larso score\n",
    "from sklearn.model_selection import train_test_split\n",
    "data_train, data_val = train_test_split(df_clean, test_size = 0.2, random_state = 2)"
   ]
  },
  {
   "cell_type": "code",
   "execution_count": 98,
   "metadata": {},
   "outputs": [],
   "source": [
    "#Classifying Independent and Dependent Features\n",
    "#_______________________________________________\n",
    "#Dependent Variable\n",
    "Y_train = data_train.iloc[:, -1].values\n",
    "#Independent Variables\n",
    "X_train = data_train.iloc[:,0 : -1].values\n",
    "#Independent Variables for Test Set\n",
    "X_test = data_val.iloc[:,0 : -1].values"
   ]
  },
  {
   "cell_type": "code",
   "execution_count": 99,
   "metadata": {},
   "outputs": [
    {
     "data": {
      "text/html": [
       "<div>\n",
       "<style scoped>\n",
       "    .dataframe tbody tr th:only-of-type {\n",
       "        vertical-align: middle;\n",
       "    }\n",
       "\n",
       "    .dataframe tbody tr th {\n",
       "        vertical-align: top;\n",
       "    }\n",
       "\n",
       "    .dataframe thead th {\n",
       "        text-align: right;\n",
       "    }\n",
       "</style>\n",
       "<table border=\"1\" class=\"dataframe\">\n",
       "  <thead>\n",
       "    <tr style=\"text-align: right;\">\n",
       "      <th></th>\n",
       "      <th>price</th>\n",
       "      <th>year</th>\n",
       "      <th>odometer</th>\n",
       "      <th>manufacturer_code</th>\n",
       "      <th>model_code</th>\n",
       "      <th>condition_code</th>\n",
       "      <th>fuel_code</th>\n",
       "      <th>transmission_code</th>\n",
       "      <th>drive_code</th>\n",
       "      <th>cylinders_code_0</th>\n",
       "      <th>...</th>\n",
       "      <th>color_code_2</th>\n",
       "      <th>color_code_3</th>\n",
       "      <th>color_code_4</th>\n",
       "      <th>color_code_5</th>\n",
       "      <th>color_code_6</th>\n",
       "      <th>color_code_7</th>\n",
       "      <th>color_code_8</th>\n",
       "      <th>color_code_9</th>\n",
       "      <th>color_code_10</th>\n",
       "      <th>color_code_11</th>\n",
       "    </tr>\n",
       "  </thead>\n",
       "  <tbody>\n",
       "    <tr>\n",
       "      <td>3408</td>\n",
       "      <td>10999</td>\n",
       "      <td>2010</td>\n",
       "      <td>99000</td>\n",
       "      <td>2</td>\n",
       "      <td>0</td>\n",
       "      <td>0</td>\n",
       "      <td>2</td>\n",
       "      <td>0</td>\n",
       "      <td>2</td>\n",
       "      <td>0</td>\n",
       "      <td>...</td>\n",
       "      <td>0</td>\n",
       "      <td>0</td>\n",
       "      <td>0</td>\n",
       "      <td>0</td>\n",
       "      <td>0</td>\n",
       "      <td>0</td>\n",
       "      <td>0</td>\n",
       "      <td>0</td>\n",
       "      <td>1</td>\n",
       "      <td>0</td>\n",
       "    </tr>\n",
       "    <tr>\n",
       "      <td>8098</td>\n",
       "      <td>3500</td>\n",
       "      <td>2005</td>\n",
       "      <td>145479</td>\n",
       "      <td>10</td>\n",
       "      <td>369</td>\n",
       "      <td>2</td>\n",
       "      <td>2</td>\n",
       "      <td>0</td>\n",
       "      <td>1</td>\n",
       "      <td>0</td>\n",
       "      <td>...</td>\n",
       "      <td>0</td>\n",
       "      <td>0</td>\n",
       "      <td>0</td>\n",
       "      <td>0</td>\n",
       "      <td>0</td>\n",
       "      <td>0</td>\n",
       "      <td>0</td>\n",
       "      <td>0</td>\n",
       "      <td>0</td>\n",
       "      <td>0</td>\n",
       "    </tr>\n",
       "    <tr>\n",
       "      <td>1225</td>\n",
       "      <td>6000</td>\n",
       "      <td>2004</td>\n",
       "      <td>85841</td>\n",
       "      <td>10</td>\n",
       "      <td>680</td>\n",
       "      <td>2</td>\n",
       "      <td>2</td>\n",
       "      <td>1</td>\n",
       "      <td>2</td>\n",
       "      <td>0</td>\n",
       "      <td>...</td>\n",
       "      <td>0</td>\n",
       "      <td>0</td>\n",
       "      <td>0</td>\n",
       "      <td>0</td>\n",
       "      <td>1</td>\n",
       "      <td>0</td>\n",
       "      <td>0</td>\n",
       "      <td>0</td>\n",
       "      <td>0</td>\n",
       "      <td>0</td>\n",
       "    </tr>\n",
       "    <tr>\n",
       "      <td>8949</td>\n",
       "      <td>6950</td>\n",
       "      <td>2009</td>\n",
       "      <td>162000</td>\n",
       "      <td>17</td>\n",
       "      <td>162</td>\n",
       "      <td>0</td>\n",
       "      <td>2</td>\n",
       "      <td>0</td>\n",
       "      <td>0</td>\n",
       "      <td>0</td>\n",
       "      <td>...</td>\n",
       "      <td>0</td>\n",
       "      <td>0</td>\n",
       "      <td>0</td>\n",
       "      <td>0</td>\n",
       "      <td>1</td>\n",
       "      <td>0</td>\n",
       "      <td>0</td>\n",
       "      <td>0</td>\n",
       "      <td>0</td>\n",
       "      <td>0</td>\n",
       "    </tr>\n",
       "    <tr>\n",
       "      <td>4006</td>\n",
       "      <td>21999</td>\n",
       "      <td>2015</td>\n",
       "      <td>95000</td>\n",
       "      <td>21</td>\n",
       "      <td>521</td>\n",
       "      <td>0</td>\n",
       "      <td>2</td>\n",
       "      <td>0</td>\n",
       "      <td>0</td>\n",
       "      <td>0</td>\n",
       "      <td>...</td>\n",
       "      <td>0</td>\n",
       "      <td>0</td>\n",
       "      <td>0</td>\n",
       "      <td>0</td>\n",
       "      <td>0</td>\n",
       "      <td>0</td>\n",
       "      <td>0</td>\n",
       "      <td>0</td>\n",
       "      <td>1</td>\n",
       "      <td>0</td>\n",
       "    </tr>\n",
       "  </tbody>\n",
       "</table>\n",
       "<p>5 rows × 89 columns</p>\n",
       "</div>"
      ],
      "text/plain": [
       "      price  year  odometer  manufacturer_code  model_code  condition_code  \\\n",
       "3408  10999  2010     99000                  2           0               0   \n",
       "8098   3500  2005    145479                 10         369               2   \n",
       "1225   6000  2004     85841                 10         680               2   \n",
       "8949   6950  2009    162000                 17         162               0   \n",
       "4006  21999  2015     95000                 21         521               0   \n",
       "\n",
       "      fuel_code  transmission_code  drive_code  cylinders_code_0  ...  \\\n",
       "3408          2                  0           2                 0  ...   \n",
       "8098          2                  0           1                 0  ...   \n",
       "1225          2                  1           2                 0  ...   \n",
       "8949          2                  0           0                 0  ...   \n",
       "4006          2                  0           0                 0  ...   \n",
       "\n",
       "      color_code_2  color_code_3  color_code_4  color_code_5  color_code_6  \\\n",
       "3408             0             0             0             0             0   \n",
       "8098             0             0             0             0             0   \n",
       "1225             0             0             0             0             1   \n",
       "8949             0             0             0             0             1   \n",
       "4006             0             0             0             0             0   \n",
       "\n",
       "      color_code_7  color_code_8  color_code_9  color_code_10  color_code_11  \n",
       "3408             0             0             0              1              0  \n",
       "8098             0             0             0              0              0  \n",
       "1225             0             0             0              0              0  \n",
       "8949             0             0             0              0              0  \n",
       "4006             0             0             0              1              0  \n",
       "\n",
       "[5 rows x 89 columns]"
      ]
     },
     "execution_count": 99,
     "metadata": {},
     "output_type": "execute_result"
    }
   ],
   "source": [
    "data_val.head()"
   ]
  },
  {
   "cell_type": "code",
   "execution_count": 100,
   "metadata": {},
   "outputs": [],
   "source": [
    "#Evaluating The Model With RMLSE\n",
    "def score(y_pred, y_true):\n",
    "    error = np.square(np.log10(y_pred +1) ).mean() ** 0.5 #squered to the mean to about 50%\n",
    "    score = 1 - error #percentage to total error\n",
    "    return score #return the score"
   ]
  },
  {
   "cell_type": "code",
   "execution_count": 101,
   "metadata": {},
   "outputs": [],
   "source": [
    "actual_price = list(data_val['price']) #getting the values of price of test data\n",
    "actual_price = np.asarray(actual_price) #in to np array"
   ]
  },
  {
   "cell_type": "code",
   "execution_count": 102,
   "metadata": {},
   "outputs": [
    {
     "data": {
      "text/plain": [
       "Lasso(normalize=True)"
      ]
     },
     "execution_count": 102,
     "metadata": {},
     "output_type": "execute_result"
    }
   ],
   "source": [
    "#Lasso Regression\n",
    "from sklearn.linear_model import Lasso\n",
    "#Initializing the Lasso Regressor with Normalization Factor as True\n",
    "lasso_reg = Lasso(normalize=True)\n",
    "#Fitting the Training data to the Lasso regressor\n",
    "lasso_reg.fit(X_train,Y_train)"
   ]
  },
  {
   "cell_type": "code",
   "execution_count": 103,
   "metadata": {},
   "outputs": [],
   "source": [
    "#Predicting for X_test\n",
    "y_pred_lass =lasso_reg.predict(X_test)"
   ]
  },
  {
   "cell_type": "code",
   "execution_count": 104,
   "metadata": {},
   "outputs": [
    {
     "name": "stdout",
     "output_type": "stream",
     "text": [
      "\n",
      "\n",
      "Lasso SCORE :  0.9974925191203602\n"
     ]
    }
   ],
   "source": [
    "#Printing the Score with RMLSE\n",
    "print(\"\\n\\nLasso SCORE : \", score(y_pred_lass, actual_price))"
   ]
  },
  {
   "cell_type": "markdown",
   "metadata": {},
   "source": [
    "### The Lasso Regression attained an score of 73% with the given Dataset\n",
    "\n",
    "### ---------------------------------------------------------------------------------------------"
   ]
  },
  {
   "cell_type": "code",
   "execution_count": 105,
   "metadata": {},
   "outputs": [
    {
     "name": "stdout",
     "output_type": "stream",
     "text": [
      "77 77\n"
     ]
    },
    {
     "data": {
      "image/png": "[encoded data removed]",
      "text/plain": [
       "<Figure size 720x360 with 1 Axes>"
      ]
     },
     "metadata": {
      "needs_background": "light"
     },
     "output_type": "display_data"
    }
   ],
   "source": [
    "#plotting LR and Ridge regression scores\n",
    "import matplotlib\n",
    "matplotlib.rcParams.update({'font.size': 12})\n",
    "X_train, X_test, y_train, y_test = train_test_split(Xp, yp, test_size=.25, random_state=0) #split the data in to test and train with test size at 25%\n",
    "print( len(X_test), len(y_test)) #checking to see if the data lengths are same\n",
    "lr = LinearRegression() #initializing the LinearRegression\n",
    "lr.fit(X_train, y_train) #fitting the train data to LR\n",
    "rr = Ridge(alpha=0.01)  #setting the alpha to 0.01 (hyper parameter)\n",
    "# higher the alpha value, more restriction on the coefficients; low alpha > more generalization\n",
    "rr.fit(X_train, y_train) #using ridge to fit the training data\n",
    "rr100 = Ridge(alpha=100) #  comparison with alpha value at 100\n",
    "rr100.fit(X_train, y_train) #fitting the ridge at 100\n",
    "train_score=lr.score(X_train, y_train) #train scoring of x and y values for LR\n",
    "test_score=lr.score(X_test, y_test) #testing score of x and y values for LR\n",
    "Ridge_train_score = rr.score(X_train,y_train) ##train scoring of x and y values for Ridge at alpha 0.01\n",
    "Ridge_test_score = rr.score(X_test, y_test)#testing score of x and y values for Ridge at apha 0.01\n",
    "Ridge_train_score100 = rr100.score(X_train,y_train)##train scoring of x and y values for Ridge at alpha 100\n",
    "Ridge_test_score100 = rr100.score(X_test, y_test)#testing score of x and y values for Ridge at apha 100\n",
    "plt.plot(rr.coef_,alpha=0.7,linestyle='none',marker='*',markersize=5,color='red',label=r'Ridge; $\\alpha = 0.01$',zorder=7) #plot the alpha 0.1 for ridge\n",
    "plt.plot(rr100.coef_,alpha=0.5,linestyle='none',marker='d',markersize=6,color='blue',label=r'Ridge; $\\alpha = 100$') #plot the coefs with alpth at 100 for ridge\n",
    "plt.plot(lr.coef_,alpha=0.4,linestyle='none',marker='o',markersize=7,color='green',label='Linear Regression')#plot the coefs for LR\n",
    "plt.xlabel('Coefficient Index',fontsize=12) #plot xlabel\n",
    "plt.ylabel('Coefficient Magnitude',fontsize=10)#plot ylabel\n",
    "plt.legend(fontsize=11,loc=4) #legend for the plot\n",
    "plt.show() #show the plot"
   ]
  },
  {
   "cell_type": "markdown",
   "metadata": {},
   "source": [
    "### X axis we plot the coefficient index for 12 features\n",
    "### When α =0.01 coefficients are less restricted and coefficients are same as of LR \n",
    "### For α =100 coefficient indices 7,8,9,10 less compared to LR"
   ]
  },
  {
   "cell_type": "code",
   "execution_count": 106,
   "metadata": {
    "scrolled": true
   },
   "outputs": [
    {
     "name": "stdout",
     "output_type": "stream",
     "text": [
      "Training score is  0.6209544639364323\n",
      "Test score is  0.5758669243418286\n",
      "Number of features used are  41\n",
      "Training score for alpha=0.01 is  0.6209746497513919\n",
      "Test score for alpha =0.01 is  0.5728970928493532\n",
      "Number of features used for alpha =0.01: 42\n"
     ]
    },
    {
     "name": "stderr",
     "output_type": "stream",
     "text": [
      "C:\\ProgramData\\Anaconda3\\lib\\site-packages\\sklearn\\linear_model\\_coordinate_descent.py:531: ConvergenceWarning: Objective did not converge. You might want to increase the number of iterations. Duality gap: 60294692.469350815, tolerance: 2008686.6612644738\n",
      "  positive)\n"
     ]
    },
    {
     "name": "stdout",
     "output_type": "stream",
     "text": [
      "Training score for alpha=0.0001  0.6209746517952135\n",
      "Test score for alpha =0.0001   0.5728763724115706\n",
      "Number of features used: for alpha =0.0001  43\n",
      "LR training score is  0.6209746517954187\n",
      "LR test score is  0.5730159405943104\n"
     ]
    },
    {
     "data": {
      "image/png": "[encoded data removed]",
      "text/plain": [
       "<Figure size 720x360 with 2 Axes>"
      ]
     },
     "metadata": {
      "needs_background": "light"
     },
     "output_type": "display_data"
    }
   ],
   "source": [
    "#hyper parameters influence on Lasso and LR\n",
    "# lasso and ridge regression coefficients can be zero (used less features) (dimensinality reduction too)\n",
    "X_train, X_test, y_train, y_test = train_test_split(Xp, yp, test_size=.25, random_state=0) #split the data in to test and train with test size at 25%\n",
    "lasso = Lasso() #initializing the Lasso\n",
    "lasso.fit(X_train,y_train) #fitting the train data to lasso\n",
    "train_score=lasso.score(X_train,y_train) #getting the score to lasso train\n",
    "test_score=lasso.score(X_test,y_test) #getting the score to lasso test\n",
    "coeff_used = np.sum(lasso.coef_!=0) #use all the coefs that are not zero\n",
    "print (\"Training score is \", train_score ) #printing the training score\n",
    "print ( \"Test score is \", test_score) #printing the trest score\n",
    "print (\"Number of features used are \", coeff_used) #print coefs used in the lasso coefs scores evalution\n",
    "lasso001 = Lasso(alpha=0.01, max_iter=10e5) #setting the lasso alpha to start at 0.01 to max of 10e5\n",
    "lasso001.fit(X_train,y_train) #fitting the lasso train at alpha set a 0.01\n",
    "train_score001=lasso001.score(X_train,y_train)#lasso score for train at 0.01 alpha\n",
    "test_score001=lasso001.score(X_test,y_test)#lasso score for test at 0.01 alpha\n",
    "coeff_used001 = np.sum(lasso001.coef_!=0) #use all the coefs that are not zero for alpha 0.01\n",
    "print (\"Training score for alpha=0.01 is \", train_score001 )#printing the train scores for alpha 0.01\n",
    "print( \"Test score for alpha =0.01 is \", test_score001) #printing the score for test score for alpha  0.01\n",
    "print (\"Number of features used for alpha =0.01:\", coeff_used001) #number of features used for alpha  0.01\n",
    "lasso00001 = Lasso(alpha=0.0001, max_iter=10e5)#setting the lasso alpha to start at 0.0001 to max of 10e5\n",
    "lasso00001.fit(X_train,y_train)#fitting the lasso train at alpha set a 0.0001\n",
    "train_score00001=lasso00001.score(X_train,y_train)#lasso score for train at 0.0001 alpha\n",
    "test_score00001=lasso00001.score(X_test,y_test)#lasso score for test at 0.0001 alpha\n",
    "coeff_used00001 = np.sum(lasso00001.coef_!=0)#use all the coefs that are not zero for alpha 0.0001\n",
    "print (\"Training score for alpha=0.0001 \", train_score00001 )#printing the train scores for alpha 0.0001\n",
    "print (\"Test score for alpha =0.0001  \", test_score00001)#printing the score for test score for alpha  0.0001\n",
    "print (\"Number of features used: for alpha =0.0001 \", coeff_used00001) #number of features used for alpha  0.0001\n",
    "lr = LinearRegression() #Initialize LR\n",
    "lr.fit(X_train,y_train) #fit LR to train\n",
    "lr_train_score=lr.score(X_train,y_train) #score LR on train data\n",
    "lr_test_score=lr.score(X_test,y_test)#score LR to trest\n",
    "print (\"LR training score is \", lr_train_score )#print LR train score\n",
    "print (\"LR test score is \", lr_test_score) #print LR test score\n",
    "plt.subplot(1,2,1) #subplot 1 row two columns first column value\n",
    "plt.plot(lasso.coef_,alpha=0.7,linestyle='none',marker='*',markersize=5,color='red',label=r'Lasso; $\\alpha = 1$',zorder=7) # plot lasso coefs\n",
    "plt.plot(lasso001.coef_,alpha=0.5,linestyle='none',marker='d',markersize=6,color='blue',label=r'Lasso; $\\alpha = 0.01$') # plot lasso coefs at 0.01\n",
    "\n",
    "plt.xlabel('Coefficient Index',fontsize=12) #xlable set\n",
    "plt.ylabel('Coefficient Magnitude',fontsize=12) #y lable set\n",
    "plt.legend(fontsize=11,loc=4) #legend\n",
    "plt.subplot(1,2,2) #plot size for 2nd column\n",
    "plt.plot(lasso.coef_,alpha=0.7,linestyle='none',marker='*',markersize=5,color='red',label=r'Lasso; $\\alpha = 1$',zorder=7) #  # plot lasso coefs\n",
    "plt.plot(lasso001.coef_,alpha=0.5,linestyle='none',marker='d',markersize=6,color='blue',label=r'Lasso; $\\alpha = 0.01$') #  # plot lasso coefs at 0.01\n",
    "plt.plot(lasso00001.coef_,alpha=0.8,linestyle='none',marker='v',markersize=6,color='black',label=r'Lasso; $\\alpha = 0.00001$') #  # plot lasso coefs at 0.0001\n",
    "plt.plot(lr.coef_,alpha=0.7,linestyle='none',marker='o',markersize=5,color='green',label='Linear Regression',zorder=2)\n",
    "plt.xlabel('Coefficient Index',fontsize=12)\n",
    "plt.ylabel('Coefficient Magnitude',fontsize=12)\n",
    "plt.legend(fontsize=11,loc=4)\n",
    "plt.tight_layout()\n",
    "plt.show()\n",
    "\n"
   ]
  },
  {
   "cell_type": "markdown",
   "metadata": {},
   "source": [
    "### Comparing the Lasso to Ridge the score is at 79% to 59%\n",
    "### For this data set I would prefer to use Ridge LR going fwd"
   ]
  },
  {
   "cell_type": "code",
   "execution_count": null,
   "metadata": {},
   "outputs": [],
   "source": []
  },
  {
   "cell_type": "code",
   "execution_count": 107,
   "metadata": {},
   "outputs": [],
   "source": [
    "## NN prediction of price using Keras/TF"
   ]
  },
  {
   "cell_type": "code",
   "execution_count": 108,
   "metadata": {},
   "outputs": [],
   "source": [
    "# Feature Scaling\n",
    "from sklearn.preprocessing import StandardScaler\n",
    "sc = StandardScaler()\n",
    "X_train = sc.fit_transform(X_train) #scaling the datasets of train\n",
    "X_test = sc.transform(X_test) #scaling the datasets of test"
   ]
  },
  {
   "cell_type": "code",
   "execution_count": 109,
   "metadata": {},
   "outputs": [
    {
     "name": "stderr",
     "output_type": "stream",
     "text": [
      "Using TensorFlow backend.\n"
     ]
    },
    {
     "name": "stdout",
     "output_type": "stream",
     "text": [
      "Model: \"sequential_1\"\n",
      "_________________________________________________________________\n",
      "Layer (type)                 Output Shape              Param #   \n",
      "=================================================================\n",
      "dense_1 (Dense)              (None, 30)                2670      \n",
      "_________________________________________________________________\n",
      "dense_2 (Dense)              (None, 88)                2728      \n",
      "_________________________________________________________________\n",
      "dense_3 (Dense)              (None, 88)                7832      \n",
      "_________________________________________________________________\n",
      "dense_4 (Dense)              (None, 1)                 89        \n",
      "=================================================================\n",
      "Total params: 13,319\n",
      "Trainable params: 13,319\n",
      "Non-trainable params: 0\n",
      "_________________________________________________________________\n"
     ]
    }
   ],
   "source": [
    "from keras.models import Sequential #sequential reg from keras\n",
    "from keras.layers import Dense #dense layers from keras\n",
    "from keras.wrappers.scikit_learn import KerasRegressor \n",
    "from matplotlib import pyplot as plt #matplot lib\n",
    "import warnings\n",
    "warnings.filterwarnings('ignore')\n",
    "\n",
    "# define base model\n",
    "def baseline_model():\n",
    "    # create model\n",
    "    model = Sequential() #sequential model\n",
    "    model.add(Dense(30, input_dim=88, kernel_initializer='normal', activation='relu')) #with 30 nodes and 88 inputs features\n",
    "    model.add(Dense(output_dim = 88, init = 'uniform', activation = 'relu')) #hidden1 layers taking the same features\n",
    "    model.add(Dense(output_dim = 88, init = 'uniform', activation = 'relu')) #hidden2 layers taking the same features\n",
    "    model.add(Dense(1, kernel_initializer='normal')) #output layer\n",
    "    # Compile model\n",
    "    model.compile(loss='mse',\n",
    "                optimizer='adam',\n",
    "                metrics=['mae'] ) #compiling the model\n",
    "    return model\n",
    "\n",
    "model = baseline_model() #calling the above function\n",
    "model.summary() #get summary of the network"
   ]
  },
  {
   "cell_type": "code",
   "execution_count": 110,
   "metadata": {},
   "outputs": [],
   "source": [
    "from __future__ import absolute_import, division, print_function #function for printing and divisions\n",
    "\n",
    "import tensorflow as tf #importing tensor flow\n",
    "from tensorflow import keras #importing keras\n",
    "\n",
    "EPOCHS = 500 #initializing the total EPOCHS\n",
    "\n",
    "# Store training stats\n",
    "history = model.fit(X_train, y_train, epochs=EPOCHS,\n",
    "                    validation_split=0.2, verbose=0) #fitting the model with train dataset"
   ]
  },
  {
   "cell_type": "code",
   "execution_count": 127,
   "metadata": {},
   "outputs": [],
   "source": [
    "\n",
    "import tensorflow_docs as tfdocs\n",
    "import tensorflow_docs.plots\n"
   ]
  },
  {
   "cell_type": "code",
   "execution_count": 128,
   "metadata": {},
   "outputs": [],
   "source": [
    "plotter = tfdocs.plots.HistoryPlotter(smoothing_std=2)\n"
   ]
  },
  {
   "cell_type": "code",
   "execution_count": 129,
   "metadata": {},
   "outputs": [
    {
     "data": {
      "text/plain": [
       "Text(0, 0.5, 'MAE [Price]')"
      ]
     },
     "execution_count": 129,
     "metadata": {},
     "output_type": "execute_result"
    },
    {
     "data": {
      "image/png": "[encoded data removed]",
      "text/plain": [
       "<Figure size 720x360 with 1 Axes>"
      ]
     },
     "metadata": {
      "needs_background": "light"
     },
     "output_type": "display_data"
    }
   ],
   "source": [
    "#visualize the model’s training progress using the stats stored in the history object\n",
    "plotter.plot({'Basic': history}, metric = \"mae\")\n",
    "plt.ylim([0, 5000])\n",
    "plt.ylabel('MAE [Price]')"
   ]
  },
  {
   "cell_type": "code",
   "execution_count": null,
   "metadata": {},
   "outputs": [],
   "source": []
  },
  {
   "cell_type": "code",
   "execution_count": 111,
   "metadata": {},
   "outputs": [
    {
     "data": {
      "image/png": "[encoded data removed]",
      "text/plain": [
       "<Figure size 720x360 with 1 Axes>"
      ]
     },
     "metadata": {
      "needs_background": "light"
     },
     "output_type": "display_data"
    }
   ],
   "source": [
    "test_predictions = model.predict(X_test).flatten() #preditct the model using test data set\n",
    "\n",
    "plt.scatter(y_test, test_predictions) #plotting actual test data set and predicted data set\n",
    "plt.xlabel('True Values [1000$]')\n",
    "plt.ylabel('Predictions [1000$]')\n",
    "plt.axis('equal')\n",
    "plt.xlim(plt.xlim())\n",
    "plt.ylim(plt.ylim())\n",
    "_ = plt.plot([-100, 100], [-100, 100])"
   ]
  },
  {
   "cell_type": "code",
   "execution_count": 145,
   "metadata": {},
   "outputs": [
    {
     "data": {
      "image/png": "[encoded data removed]",
      "text/plain": [
       "<Figure size 720x360 with 1 Axes>"
      ]
     },
     "metadata": {
      "needs_background": "light"
     },
     "output_type": "display_data"
    }
   ],
   "source": [
    "#error distribution\n",
    "error = test_predictions - y_test #getting the error distribution for prediction and test datasets\n",
    "plt.hist(error, bins = 25)\n",
    "plt.xlabel(\"Prediction Error [Price]\")\n",
    "_ = plt.ylabel(\"Count\")"
   ]
  },
  {
   "cell_type": "code",
   "execution_count": 133,
   "metadata": {},
   "outputs": [],
   "source": [
    "n=((np.sqrt(test_predictions - y_test)))"
   ]
  },
  {
   "cell_type": "code",
   "execution_count": 134,
   "metadata": {},
   "outputs": [],
   "source": [
    "n = n[np.logical_not(np.isnan(n))]"
   ]
  },
  {
   "cell_type": "code",
   "execution_count": 135,
   "metadata": {},
   "outputs": [],
   "source": [
    "error = np.sum(n)"
   ]
  },
  {
   "cell_type": "code",
   "execution_count": 137,
   "metadata": {},
   "outputs": [
    {
     "data": {
      "text/plain": [
       "1.0729040961004561"
      ]
     },
     "execution_count": 137,
     "metadata": {},
     "output_type": "execute_result"
    }
   ],
   "source": [
    "error/len(df_clean) #percentage of errors to the total dataset"
   ]
  },
  {
   "cell_type": "code",
   "execution_count": 138,
   "metadata": {},
   "outputs": [],
   "source": [
    "from sklearn.metrics import r2_score"
   ]
  },
  {
   "cell_type": "code",
   "execution_count": 139,
   "metadata": {},
   "outputs": [
    {
     "data": {
      "text/plain": [
       "0.6311369123659673"
      ]
     },
     "execution_count": 139,
     "metadata": {},
     "output_type": "execute_result"
    }
   ],
   "source": [
    "r2_score(y_test, test_predictions) #r squared value"
   ]
  },
  {
   "cell_type": "code",
   "execution_count": null,
   "metadata": {},
   "outputs": [],
   "source": []
  }
 ],
 "metadata": {
  "kernelspec": {
   "display_name": "Python 3",
   "language": "python",
   "name": "python3"
  },
  "language_info": {
   "codemirror_mode": {
    "name": "ipython",
    "version": 3
   },
   "file_extension": ".py",
   "mimetype": "text/x-python",
   "name": "python",
   "nbconvert_exporter": "python",
   "pygments_lexer": "ipython3",
   "version": "3.7.4"
  }
 },
 "nbformat": 4,
 "nbformat_minor": 2
}
